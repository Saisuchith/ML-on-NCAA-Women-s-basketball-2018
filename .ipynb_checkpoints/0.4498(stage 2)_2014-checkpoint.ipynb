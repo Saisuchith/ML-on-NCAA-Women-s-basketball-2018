{
 "cells": [
  {
   "cell_type": "code",
   "execution_count": 1,
   "metadata": {},
   "outputs": [],
   "source": [
    "import numpy as np\n",
    "import pandas as pd\n",
    "import seaborn as sns\n",
    "import matplotlib.pyplot as plt\n",
    "\n",
    "from sklearn.linear_model import LinearRegression,LogisticRegression,Ridge,Lasso\n",
    "from sklearn.model_selection import GridSearchCV,train_test_split\n",
    "from sklearn.utils import shuffle\n",
    "from sklearn.ensemble import RandomForestClassifier,RandomForestRegressor\n",
    "from xgboost import XGBRegressor,XGBClassifier\n",
    "from sklearn.metrics import log_loss\n",
    "from sklearn.svm import LinearSVC,LinearSVR,SVC,SVR\n",
    "from scipy.stats import norm,skew\n",
    "\n",
    "# Setting the number of columns to display\n",
    "pd.set_option('display.max_columns', None)\n",
    "# year\n",
    "yr=2014"
   ]
  },
  {
   "cell_type": "code",
   "execution_count": 2,
   "metadata": {},
   "outputs": [
    {
     "name": "stdout",
     "output_type": "stream",
     "text": [
      "Regular season results (101893, 8) (46342, 34)\n",
      "Tourney results (1260, 8) (504, 34)\n"
     ]
    }
   ],
   "source": [
    "cities=pd.read_csv(\"WStage2DataFiles/WCities.csv\")\n",
    "game_cities=pd.read_csv(\"WStage2DataFiles/WGameCities.csv\")\n",
    "\n",
    "tourney_seeds=pd.read_csv(\"WStage2DataFiles/WNCAATourneySeeds.csv\")\n",
    "\n",
    "regular_season_results=pd.read_csv(\"WStage2DataFiles/WRegularSeasonCompactResults.csv\")\n",
    "detailed_regular_season=pd.read_csv(\"WStage2DataFiles/WRegularSeasonDetailedResults.csv\")\n",
    "\n",
    "tourney_results=pd.read_csv(\"WStage2DataFiles/WNCAATourneyCompactResults.csv\")\n",
    "detailed_tourney=pd.read_csv(\"WStage2DataFiles/WNCAATourneyDetailedResults.csv\")\n",
    "\n",
    "sample_submission=pd.read_csv(\"WStage2DataFiles/WSampleSubmissionStage2.csv\")\n",
    "\n",
    "print(\"Regular season results\",regular_season_results.shape,detailed_regular_season.shape)\n",
    "print(\"Tourney results\",tourney_results.shape,detailed_tourney.shape)"
   ]
  },
  {
   "cell_type": "code",
   "execution_count": 3,
   "metadata": {},
   "outputs": [],
   "source": [
    "# tourney_results=pd.concat([tourney_results,regular_season_results],axis=0)\n",
    "# tourney_results.shape"
   ]
  },
  {
   "cell_type": "code",
   "execution_count": 4,
   "metadata": {},
   "outputs": [
    {
     "data": {
      "text/html": [
       "<div>\n",
       "<style scoped>\n",
       "    .dataframe tbody tr th:only-of-type {\n",
       "        vertical-align: middle;\n",
       "    }\n",
       "\n",
       "    .dataframe tbody tr th {\n",
       "        vertical-align: top;\n",
       "    }\n",
       "\n",
       "    .dataframe thead th {\n",
       "        text-align: right;\n",
       "    }\n",
       "</style>\n",
       "<table border=\"1\" class=\"dataframe\">\n",
       "  <thead>\n",
       "    <tr style=\"text-align: right;\">\n",
       "      <th></th>\n",
       "      <th>Season</th>\n",
       "      <th>TeamID</th>\n",
       "      <th>seed_int</th>\n",
       "      <th>region</th>\n",
       "    </tr>\n",
       "  </thead>\n",
       "  <tbody>\n",
       "    <tr>\n",
       "      <th>0</th>\n",
       "      <td>1998</td>\n",
       "      <td>3330</td>\n",
       "      <td>1</td>\n",
       "      <td>W</td>\n",
       "    </tr>\n",
       "    <tr>\n",
       "      <th>1</th>\n",
       "      <td>1998</td>\n",
       "      <td>3163</td>\n",
       "      <td>2</td>\n",
       "      <td>W</td>\n",
       "    </tr>\n",
       "    <tr>\n",
       "      <th>2</th>\n",
       "      <td>1998</td>\n",
       "      <td>3112</td>\n",
       "      <td>3</td>\n",
       "      <td>W</td>\n",
       "    </tr>\n",
       "    <tr>\n",
       "      <th>3</th>\n",
       "      <td>1998</td>\n",
       "      <td>3301</td>\n",
       "      <td>4</td>\n",
       "      <td>W</td>\n",
       "    </tr>\n",
       "    <tr>\n",
       "      <th>4</th>\n",
       "      <td>1998</td>\n",
       "      <td>3272</td>\n",
       "      <td>5</td>\n",
       "      <td>W</td>\n",
       "    </tr>\n",
       "    <tr>\n",
       "      <th>5</th>\n",
       "      <td>1998</td>\n",
       "      <td>3438</td>\n",
       "      <td>6</td>\n",
       "      <td>W</td>\n",
       "    </tr>\n",
       "    <tr>\n",
       "      <th>6</th>\n",
       "      <td>1998</td>\n",
       "      <td>3208</td>\n",
       "      <td>7</td>\n",
       "      <td>W</td>\n",
       "    </tr>\n",
       "    <tr>\n",
       "      <th>7</th>\n",
       "      <td>1998</td>\n",
       "      <td>3307</td>\n",
       "      <td>8</td>\n",
       "      <td>W</td>\n",
       "    </tr>\n",
       "    <tr>\n",
       "      <th>8</th>\n",
       "      <td>1998</td>\n",
       "      <td>3304</td>\n",
       "      <td>9</td>\n",
       "      <td>W</td>\n",
       "    </tr>\n",
       "    <tr>\n",
       "      <th>9</th>\n",
       "      <td>1998</td>\n",
       "      <td>3203</td>\n",
       "      <td>10</td>\n",
       "      <td>W</td>\n",
       "    </tr>\n",
       "  </tbody>\n",
       "</table>\n",
       "</div>"
      ],
      "text/plain": [
       "   Season  TeamID  seed_int region\n",
       "0    1998    3330         1      W\n",
       "1    1998    3163         2      W\n",
       "2    1998    3112         3      W\n",
       "3    1998    3301         4      W\n",
       "4    1998    3272         5      W\n",
       "5    1998    3438         6      W\n",
       "6    1998    3208         7      W\n",
       "7    1998    3307         8      W\n",
       "8    1998    3304         9      W\n",
       "9    1998    3203        10      W"
      ]
     },
     "execution_count": 4,
     "metadata": {},
     "output_type": "execute_result"
    }
   ],
   "source": [
    "# for extraction of seed and region\n",
    "def extract_seedint(seed):\n",
    "    k=int(seed[1:])\n",
    "    return k;\n",
    "def region(seed):\n",
    "    return seed[0];\n",
    "tourney_seeds['seed_int']=tourney_seeds['Seed'].apply(extract_seedint)\n",
    "tourney_seeds['region']=tourney_seeds['Seed'].apply(region)\n",
    "tourney_seeds.drop(columns=['Seed'],inplace=True)\n",
    "tourney_seeds.head(10)"
   ]
  },
  {
   "cell_type": "code",
   "execution_count": 5,
   "metadata": {},
   "outputs": [
    {
     "data": {
      "text/html": [
       "<div>\n",
       "<style scoped>\n",
       "    .dataframe tbody tr th:only-of-type {\n",
       "        vertical-align: middle;\n",
       "    }\n",
       "\n",
       "    .dataframe tbody tr th {\n",
       "        vertical-align: top;\n",
       "    }\n",
       "\n",
       "    .dataframe thead th {\n",
       "        text-align: right;\n",
       "    }\n",
       "</style>\n",
       "<table border=\"1\" class=\"dataframe\">\n",
       "  <thead>\n",
       "    <tr style=\"text-align: right;\">\n",
       "      <th></th>\n",
       "      <th>Season</th>\n",
       "      <th>DayNum</th>\n",
       "      <th>WTeamID</th>\n",
       "      <th>WScore</th>\n",
       "      <th>LTeamID</th>\n",
       "      <th>LScore</th>\n",
       "      <th>WLoc</th>\n",
       "      <th>NumOT</th>\n",
       "      <th>WSeed</th>\n",
       "      <th>WRegion</th>\n",
       "      <th>LSeed</th>\n",
       "      <th>LRegion</th>\n",
       "    </tr>\n",
       "  </thead>\n",
       "  <tbody>\n",
       "    <tr>\n",
       "      <th>0</th>\n",
       "      <td>1998</td>\n",
       "      <td>137</td>\n",
       "      <td>3104</td>\n",
       "      <td>94</td>\n",
       "      <td>3422</td>\n",
       "      <td>46</td>\n",
       "      <td>H</td>\n",
       "      <td>0</td>\n",
       "      <td>2</td>\n",
       "      <td>X</td>\n",
       "      <td>15</td>\n",
       "      <td>X</td>\n",
       "    </tr>\n",
       "    <tr>\n",
       "      <th>1</th>\n",
       "      <td>1998</td>\n",
       "      <td>137</td>\n",
       "      <td>3112</td>\n",
       "      <td>75</td>\n",
       "      <td>3365</td>\n",
       "      <td>63</td>\n",
       "      <td>H</td>\n",
       "      <td>0</td>\n",
       "      <td>3</td>\n",
       "      <td>W</td>\n",
       "      <td>14</td>\n",
       "      <td>W</td>\n",
       "    </tr>\n",
       "    <tr>\n",
       "      <th>2</th>\n",
       "      <td>1998</td>\n",
       "      <td>137</td>\n",
       "      <td>3163</td>\n",
       "      <td>93</td>\n",
       "      <td>3193</td>\n",
       "      <td>52</td>\n",
       "      <td>H</td>\n",
       "      <td>0</td>\n",
       "      <td>2</td>\n",
       "      <td>W</td>\n",
       "      <td>15</td>\n",
       "      <td>W</td>\n",
       "    </tr>\n",
       "    <tr>\n",
       "      <th>3</th>\n",
       "      <td>1998</td>\n",
       "      <td>137</td>\n",
       "      <td>3198</td>\n",
       "      <td>59</td>\n",
       "      <td>3266</td>\n",
       "      <td>45</td>\n",
       "      <td>H</td>\n",
       "      <td>0</td>\n",
       "      <td>7</td>\n",
       "      <td>Y</td>\n",
       "      <td>10</td>\n",
       "      <td>Y</td>\n",
       "    </tr>\n",
       "    <tr>\n",
       "      <th>4</th>\n",
       "      <td>1998</td>\n",
       "      <td>137</td>\n",
       "      <td>3203</td>\n",
       "      <td>74</td>\n",
       "      <td>3208</td>\n",
       "      <td>72</td>\n",
       "      <td>A</td>\n",
       "      <td>0</td>\n",
       "      <td>10</td>\n",
       "      <td>W</td>\n",
       "      <td>7</td>\n",
       "      <td>W</td>\n",
       "    </tr>\n",
       "    <tr>\n",
       "      <th>5</th>\n",
       "      <td>1998</td>\n",
       "      <td>137</td>\n",
       "      <td>3234</td>\n",
       "      <td>77</td>\n",
       "      <td>3269</td>\n",
       "      <td>59</td>\n",
       "      <td>H</td>\n",
       "      <td>0</td>\n",
       "      <td>4</td>\n",
       "      <td>Z</td>\n",
       "      <td>13</td>\n",
       "      <td>Z</td>\n",
       "    </tr>\n",
       "    <tr>\n",
       "      <th>6</th>\n",
       "      <td>1998</td>\n",
       "      <td>137</td>\n",
       "      <td>3242</td>\n",
       "      <td>72</td>\n",
       "      <td>3408</td>\n",
       "      <td>68</td>\n",
       "      <td>H</td>\n",
       "      <td>0</td>\n",
       "      <td>5</td>\n",
       "      <td>Z</td>\n",
       "      <td>12</td>\n",
       "      <td>Z</td>\n",
       "    </tr>\n",
       "    <tr>\n",
       "      <th>7</th>\n",
       "      <td>1998</td>\n",
       "      <td>137</td>\n",
       "      <td>3301</td>\n",
       "      <td>89</td>\n",
       "      <td>3263</td>\n",
       "      <td>64</td>\n",
       "      <td>H</td>\n",
       "      <td>0</td>\n",
       "      <td>4</td>\n",
       "      <td>W</td>\n",
       "      <td>13</td>\n",
       "      <td>W</td>\n",
       "    </tr>\n",
       "    <tr>\n",
       "      <th>8</th>\n",
       "      <td>1998</td>\n",
       "      <td>137</td>\n",
       "      <td>3304</td>\n",
       "      <td>76</td>\n",
       "      <td>3307</td>\n",
       "      <td>59</td>\n",
       "      <td>N</td>\n",
       "      <td>0</td>\n",
       "      <td>9</td>\n",
       "      <td>W</td>\n",
       "      <td>8</td>\n",
       "      <td>W</td>\n",
       "    </tr>\n",
       "    <tr>\n",
       "      <th>9</th>\n",
       "      <td>1998</td>\n",
       "      <td>137</td>\n",
       "      <td>3314</td>\n",
       "      <td>91</td>\n",
       "      <td>3224</td>\n",
       "      <td>71</td>\n",
       "      <td>H</td>\n",
       "      <td>0</td>\n",
       "      <td>2</td>\n",
       "      <td>Y</td>\n",
       "      <td>15</td>\n",
       "      <td>Y</td>\n",
       "    </tr>\n",
       "  </tbody>\n",
       "</table>\n",
       "</div>"
      ],
      "text/plain": [
       "   Season  DayNum  WTeamID  WScore  LTeamID  LScore WLoc  NumOT  WSeed  \\\n",
       "0    1998     137     3104      94     3422      46    H      0      2   \n",
       "1    1998     137     3112      75     3365      63    H      0      3   \n",
       "2    1998     137     3163      93     3193      52    H      0      2   \n",
       "3    1998     137     3198      59     3266      45    H      0      7   \n",
       "4    1998     137     3203      74     3208      72    A      0     10   \n",
       "5    1998     137     3234      77     3269      59    H      0      4   \n",
       "6    1998     137     3242      72     3408      68    H      0      5   \n",
       "7    1998     137     3301      89     3263      64    H      0      4   \n",
       "8    1998     137     3304      76     3307      59    N      0      9   \n",
       "9    1998     137     3314      91     3224      71    H      0      2   \n",
       "\n",
       "  WRegion  LSeed LRegion  \n",
       "0       X     15       X  \n",
       "1       W     14       W  \n",
       "2       W     15       W  \n",
       "3       Y     10       Y  \n",
       "4       W      7       W  \n",
       "5       Z     13       Z  \n",
       "6       Z     12       Z  \n",
       "7       W     13       W  \n",
       "8       W      8       W  \n",
       "9       Y     15       Y  "
      ]
     },
     "execution_count": 5,
     "metadata": {},
     "output_type": "execute_result"
    }
   ],
   "source": [
    "# merging the tournament results\n",
    "winseeds = tourney_seeds.rename(columns={'TeamID':'WTeamID', 'seed_int':'WSeed','region':'WRegion'})\n",
    "lossseeds = tourney_seeds.rename(columns={'TeamID':'LTeamID', 'seed_int':'LSeed','region':'LRegion'})\n",
    "df_dummy = pd.merge(left=tourney_results, right=winseeds, how='left', on=['Season', 'WTeamID'])\n",
    "tourney_results= pd.merge(left=df_dummy, right=lossseeds,how='left',on=['Season', 'LTeamID'])\n",
    "tourney_results.WSeed.fillna(0,inplace=True)\n",
    "tourney_results.LSeed.fillna(0,inplace=True)\n",
    "tourney_results.head(10)"
   ]
  },
  {
   "cell_type": "code",
   "execution_count": 6,
   "metadata": {},
   "outputs": [
    {
     "data": {
      "text/html": [
       "<div>\n",
       "<style scoped>\n",
       "    .dataframe tbody tr th:only-of-type {\n",
       "        vertical-align: middle;\n",
       "    }\n",
       "\n",
       "    .dataframe tbody tr th {\n",
       "        vertical-align: top;\n",
       "    }\n",
       "\n",
       "    .dataframe thead th {\n",
       "        text-align: right;\n",
       "    }\n",
       "</style>\n",
       "<table border=\"1\" class=\"dataframe\">\n",
       "  <thead>\n",
       "    <tr style=\"text-align: right;\">\n",
       "      <th></th>\n",
       "      <th>Season</th>\n",
       "      <th>SeedDiff</th>\n",
       "      <th>ScoreDiff</th>\n",
       "      <th>Result</th>\n",
       "    </tr>\n",
       "  </thead>\n",
       "  <tbody>\n",
       "    <tr>\n",
       "      <th>0</th>\n",
       "      <td>1998</td>\n",
       "      <td>-13</td>\n",
       "      <td>48</td>\n",
       "      <td>1</td>\n",
       "    </tr>\n",
       "    <tr>\n",
       "      <th>1</th>\n",
       "      <td>1998</td>\n",
       "      <td>-11</td>\n",
       "      <td>12</td>\n",
       "      <td>1</td>\n",
       "    </tr>\n",
       "    <tr>\n",
       "      <th>2</th>\n",
       "      <td>1998</td>\n",
       "      <td>-13</td>\n",
       "      <td>41</td>\n",
       "      <td>1</td>\n",
       "    </tr>\n",
       "    <tr>\n",
       "      <th>3</th>\n",
       "      <td>1998</td>\n",
       "      <td>-3</td>\n",
       "      <td>14</td>\n",
       "      <td>1</td>\n",
       "    </tr>\n",
       "    <tr>\n",
       "      <th>4</th>\n",
       "      <td>1998</td>\n",
       "      <td>3</td>\n",
       "      <td>2</td>\n",
       "      <td>1</td>\n",
       "    </tr>\n",
       "  </tbody>\n",
       "</table>\n",
       "</div>"
      ],
      "text/plain": [
       "   Season  SeedDiff  ScoreDiff  Result\n",
       "0    1998       -13         48       1\n",
       "1    1998       -11         12       1\n",
       "2    1998       -13         41       1\n",
       "3    1998        -3         14       1\n",
       "4    1998         3          2       1"
      ]
     },
     "execution_count": 6,
     "metadata": {},
     "output_type": "execute_result"
    }
   ],
   "source": [
    "wins=tourney_results.loc[tourney_results['Season']<yr,['Season','WSeed','LSeed','WScore','LScore']]\n",
    "wins['SeedDiff']=wins['WSeed']-wins['LSeed']\n",
    "wins['ScoreDiff']=wins['WScore']-wins['LScore']\n",
    "wins.drop(columns=['WSeed','LSeed','WScore','LScore'],inplace=True)\n",
    "\n",
    "wins['Result']=1\n",
    "wins['Result']=wins['Result'].astype(int)\n",
    "\n",
    "losses=-wins\n",
    "losses['Result']=0\n",
    "losses['Season']=-losses['Season']\n",
    "\n",
    "data=pd.concat([wins,losses],axis=0)\n",
    "data.head()"
   ]
  },
  {
   "cell_type": "code",
   "execution_count": 7,
   "metadata": {},
   "outputs": [
    {
     "name": "stdout",
     "output_type": "stream",
     "text": [
      "(2016, 1) (2016,)\n"
     ]
    }
   ],
   "source": [
    "X_train=data.iloc[:,[1]].values\n",
    "y_train=data.iloc[:,2].values\n",
    "\n",
    "print(X_train.shape,y_train.shape)"
   ]
  },
  {
   "cell_type": "code",
   "execution_count": 8,
   "metadata": {
    "scrolled": true
   },
   "outputs": [
    {
     "name": "stdout",
     "output_type": "stream",
     "text": [
      "For regression \n",
      "The training shape is (1814, 1)  and the label shape is (1814,)\n",
      "The validation shape is (202, 1)  and the label shape is (202,)\n"
     ]
    }
   ],
   "source": [
    "X_train,X_val,y_train,y_val=train_test_split(X_train,y_train,test_size=0.1,random_state=42,shuffle=True)\n",
    "print(\"For regression \")\n",
    "print(\"The training shape is\",X_train.shape,\" and the label shape is\",y_train.shape)\n",
    "print(\"The validation shape is\",X_val.shape,\" and the label shape is\",y_val.shape)"
   ]
  },
  {
   "cell_type": "markdown",
   "metadata": {},
   "source": [
    "My plan is to predict the score differences and this can be used to predict the score differences in the test data "
   ]
  },
  {
   "cell_type": "code",
   "execution_count": 9,
   "metadata": {},
   "outputs": [
    {
     "name": "stdout",
     "output_type": "stream",
     "text": [
      "The training Error is 0.562418145765\n",
      "The validation error is 0.580603633846\n"
     ]
    }
   ],
   "source": [
    "lr=LinearRegression()\n",
    "lr.fit(X_train,y_train)\n",
    "print(\"The training Error is\",lr.score(X_train,y_train))\n",
    "print(\"The validation error is\",lr.score(X_val,y_val))"
   ]
  },
  {
   "cell_type": "code",
   "execution_count": 10,
   "metadata": {},
   "outputs": [
    {
     "name": "stdout",
     "output_type": "stream",
     "text": [
      "The training Score is 0.583358825931\n",
      "The validation Score is 0.583543348298\n"
     ]
    }
   ],
   "source": [
    "rf=RandomForestRegressor(random_state=42)\n",
    "rf.fit(X_train,y_train)\n",
    "print(\"The training Score is\",rf.score(X_train,y_train))\n",
    "print(\"The validation Score is\",rf.score(X_val,y_val))"
   ]
  },
  {
   "cell_type": "code",
   "execution_count": 11,
   "metadata": {},
   "outputs": [
    {
     "name": "stdout",
     "output_type": "stream",
     "text": [
      "The training Score is 0.583993674602\n",
      "The validation Score is 0.59055595799\n"
     ]
    }
   ],
   "source": [
    "xgr=XGBRegressor(random_state=42)\n",
    "xgr.fit(X_train,y_train)\n",
    "print(\"The training Score is\",xgr.score(X_train,y_train))\n",
    "print(\"The validation Score is\",xgr.score(X_val,y_val))"
   ]
  },
  {
   "cell_type": "code",
   "execution_count": 12,
   "metadata": {},
   "outputs": [
    {
     "name": "stdout",
     "output_type": "stream",
     "text": [
      "training Score 0.554556875594\n",
      "validation score 0.56286949699\n"
     ]
    }
   ],
   "source": [
    "svr=SVR()\n",
    "svr.fit(X_train,y_train)\n",
    "print(\"training Score\",svr.score(X_train,y_train))\n",
    "print(\"validation score\",svr.score(X_val,y_val))"
   ]
  },
  {
   "cell_type": "code",
   "execution_count": 13,
   "metadata": {},
   "outputs": [
    {
     "name": "stdout",
     "output_type": "stream",
     "text": [
      "The training Score is 0.562418145708\n",
      "The validation Score is 0.580603290576\n"
     ]
    }
   ],
   "source": [
    "ridge=Ridge()\n",
    "ridge.fit(X_train,y_train)\n",
    "print(\"The training Score is\",ridge.score(X_train,y_train))\n",
    "print(\"The validation Score is\",ridge.score(X_val,y_val))"
   ]
  },
  {
   "cell_type": "code",
   "execution_count": 14,
   "metadata": {},
   "outputs": [
    {
     "name": "stdout",
     "output_type": "stream",
     "text": [
      "The training Score is 0.562372464431\n",
      "The validation Score is 0.580253512283\n"
     ]
    }
   ],
   "source": [
    "lasso=Lasso()\n",
    "lasso.fit(X_train,y_train)\n",
    "print(\"The training Score is\",lasso.score(X_train,y_train))\n",
    "print(\"The validation Score is\",lasso.score(X_val,y_val))"
   ]
  },
  {
   "cell_type": "markdown",
   "metadata": {},
   "source": [
    "I will choose the randomforest regressor(just a try!)"
   ]
  },
  {
   "cell_type": "code",
   "execution_count": 15,
   "metadata": {},
   "outputs": [
    {
     "data": {
      "text/html": [
       "<div>\n",
       "<style scoped>\n",
       "    .dataframe tbody tr th:only-of-type {\n",
       "        vertical-align: middle;\n",
       "    }\n",
       "\n",
       "    .dataframe tbody tr th {\n",
       "        vertical-align: top;\n",
       "    }\n",
       "\n",
       "    .dataframe thead th {\n",
       "        text-align: right;\n",
       "    }\n",
       "</style>\n",
       "<table border=\"1\" class=\"dataframe\">\n",
       "  <thead>\n",
       "    <tr style=\"text-align: right;\">\n",
       "      <th></th>\n",
       "      <th>Season</th>\n",
       "      <th>SeedDiff</th>\n",
       "      <th>ScoreDiff</th>\n",
       "      <th>Result</th>\n",
       "      <th>DiffbyRegressor</th>\n",
       "    </tr>\n",
       "  </thead>\n",
       "  <tbody>\n",
       "    <tr>\n",
       "      <th>0</th>\n",
       "      <td>1998</td>\n",
       "      <td>-13</td>\n",
       "      <td>48</td>\n",
       "      <td>1</td>\n",
       "      <td>26.988544</td>\n",
       "    </tr>\n",
       "    <tr>\n",
       "      <th>1</th>\n",
       "      <td>1998</td>\n",
       "      <td>-11</td>\n",
       "      <td>12</td>\n",
       "      <td>1</td>\n",
       "      <td>19.175648</td>\n",
       "    </tr>\n",
       "    <tr>\n",
       "      <th>2</th>\n",
       "      <td>1998</td>\n",
       "      <td>-13</td>\n",
       "      <td>41</td>\n",
       "      <td>1</td>\n",
       "      <td>26.988544</td>\n",
       "    </tr>\n",
       "    <tr>\n",
       "      <th>3</th>\n",
       "      <td>1998</td>\n",
       "      <td>-3</td>\n",
       "      <td>14</td>\n",
       "      <td>1</td>\n",
       "      <td>5.767014</td>\n",
       "    </tr>\n",
       "    <tr>\n",
       "      <th>4</th>\n",
       "      <td>1998</td>\n",
       "      <td>3</td>\n",
       "      <td>2</td>\n",
       "      <td>1</td>\n",
       "      <td>-6.155714</td>\n",
       "    </tr>\n",
       "  </tbody>\n",
       "</table>\n",
       "</div>"
      ],
      "text/plain": [
       "   Season  SeedDiff  ScoreDiff  Result  DiffbyRegressor\n",
       "0    1998       -13         48       1        26.988544\n",
       "1    1998       -11         12       1        19.175648\n",
       "2    1998       -13         41       1        26.988544\n",
       "3    1998        -3         14       1         5.767014\n",
       "4    1998         3          2       1        -6.155714"
      ]
     },
     "execution_count": 15,
     "metadata": {},
     "output_type": "execute_result"
    }
   ],
   "source": [
    "pred_data=data.iloc[:,1:2].values\n",
    "data['DiffbyRegressor']=(xgr.predict(pred_data))\n",
    "data.head()"
   ]
  },
  {
   "cell_type": "markdown",
   "metadata": {},
   "source": [
    "I will build a classifier on the data using Season,SeedDiff,ScoreDiff by regressor. "
   ]
  },
  {
   "cell_type": "code",
   "execution_count": 16,
   "metadata": {},
   "outputs": [
    {
     "name": "stdout",
     "output_type": "stream",
     "text": [
      "(2016, 2) (2016,)\n"
     ]
    }
   ],
   "source": [
    "X_train=data.iloc[:,[1,4]].values\n",
    "y_train=data.iloc[:,3].values\n",
    "print(X_train.shape,y_train.shape)"
   ]
  },
  {
   "cell_type": "code",
   "execution_count": 17,
   "metadata": {},
   "outputs": [
    {
     "name": "stdout",
     "output_type": "stream",
     "text": [
      "The training shape is (1814, 2)  and the label shape is (1814,)\n",
      "The validation shape is (202, 2)  and the label shape is (202,)\n"
     ]
    }
   ],
   "source": [
    "X_train,X_val,y_train,y_val=train_test_split(X_train,y_train,test_size=0.1,random_state=42,shuffle=True)\n",
    "\n",
    "print(\"The training shape is\",X_train.shape,\" and the label shape is\",y_train.shape)\n",
    "print(\"The validation shape is\",X_val.shape,\" and the label shape is\",y_val.shape)"
   ]
  },
  {
   "cell_type": "markdown",
   "metadata": {},
   "source": [
    "# Classifiers"
   ]
  },
  {
   "cell_type": "code",
   "execution_count": 18,
   "metadata": {},
   "outputs": [
    {
     "name": "stdout",
     "output_type": "stream",
     "text": [
      "The training log loss is 0.453238515125\n",
      "The validation log los is 0.453498839933\n"
     ]
    }
   ],
   "source": [
    "lr=LogisticRegression()\n",
    "lr.fit(X_train,y_train)\n",
    "print(\"The training log loss is\",log_loss(y_train,lr.predict_proba(X_train)[:,1]))\n",
    "print(\"The validation log los is\",log_loss(y_val,lr.predict_proba(X_val)[:,1]))"
   ]
  },
  {
   "cell_type": "code",
   "execution_count": 19,
   "metadata": {},
   "outputs": [
    {
     "name": "stdout",
     "output_type": "stream",
     "text": [
      "The training log loss is 0.446465727793\n",
      "The validation log los is 0.465703744524\n"
     ]
    }
   ],
   "source": [
    "xgc=XGBClassifier(n_estimators=100,random_state=42)\n",
    "xgc.fit(X_train,y_train)\n",
    "print(\"The training log loss is\",log_loss(y_train,xgc.predict_proba(X_train)[:,1]))\n",
    "print(\"The validation log los is\",log_loss(y_val,xgc.predict_proba(X_val)[:,1]))"
   ]
  },
  {
   "cell_type": "code",
   "execution_count": 20,
   "metadata": {},
   "outputs": [
    {
     "name": "stdout",
     "output_type": "stream",
     "text": [
      "The training loss of the ensemble is 0.449293038887\n",
      "The validation loss of the ensemble is 0.455958337856\n"
     ]
    }
   ],
   "source": [
    "print(\"The training loss of the ensemble is\",log_loss(y_train,0.5*xgc.predict_proba(X_train)[:,1]+0.5*lr.predict_proba(X_train)[:,1]))\n",
    "print(\"The validation loss of the ensemble is\",log_loss(y_val,0.5*xgc.predict_proba(X_val)[:,1]+0.5*lr.predict_proba(X_val)[:,1]))"
   ]
  },
  {
   "cell_type": "markdown",
   "metadata": {},
   "source": [
    "## TEST PREPROCESSING"
   ]
  },
  {
   "cell_type": "code",
   "execution_count": 21,
   "metadata": {},
   "outputs": [
    {
     "data": {
      "text/html": [
       "<div>\n",
       "<style scoped>\n",
       "    .dataframe tbody tr th:only-of-type {\n",
       "        vertical-align: middle;\n",
       "    }\n",
       "\n",
       "    .dataframe tbody tr th {\n",
       "        vertical-align: top;\n",
       "    }\n",
       "\n",
       "    .dataframe thead th {\n",
       "        text-align: right;\n",
       "    }\n",
       "</style>\n",
       "<table border=\"1\" class=\"dataframe\">\n",
       "  <thead>\n",
       "    <tr style=\"text-align: right;\">\n",
       "      <th></th>\n",
       "      <th>Season</th>\n",
       "      <th>WTeamID</th>\n",
       "      <th>LTeamID</th>\n",
       "    </tr>\n",
       "  </thead>\n",
       "  <tbody>\n",
       "    <tr>\n",
       "      <th>0</th>\n",
       "      <td>2018</td>\n",
       "      <td>3110</td>\n",
       "      <td>3113</td>\n",
       "    </tr>\n",
       "    <tr>\n",
       "      <th>1</th>\n",
       "      <td>2018</td>\n",
       "      <td>3110</td>\n",
       "      <td>3114</td>\n",
       "    </tr>\n",
       "    <tr>\n",
       "      <th>2</th>\n",
       "      <td>2018</td>\n",
       "      <td>3110</td>\n",
       "      <td>3124</td>\n",
       "    </tr>\n",
       "    <tr>\n",
       "      <th>3</th>\n",
       "      <td>2018</td>\n",
       "      <td>3110</td>\n",
       "      <td>3125</td>\n",
       "    </tr>\n",
       "    <tr>\n",
       "      <th>4</th>\n",
       "      <td>2018</td>\n",
       "      <td>3110</td>\n",
       "      <td>3129</td>\n",
       "    </tr>\n",
       "  </tbody>\n",
       "</table>\n",
       "</div>"
      ],
      "text/plain": [
       "   Season  WTeamID  LTeamID\n",
       "0    2018     3110     3113\n",
       "1    2018     3110     3114\n",
       "2    2018     3110     3124\n",
       "3    2018     3110     3125\n",
       "4    2018     3110     3129"
      ]
     },
     "execution_count": 21,
     "metadata": {},
     "output_type": "execute_result"
    }
   ],
   "source": [
    "test=pd.DataFrame(columns=['Season','WTeamID','LTeamID'])\n",
    "for i in sample_submission.index:\n",
    "    season,wid,lid=map(int,sample_submission['ID'][i].split(\"_\"))\n",
    "    test.loc[i,'Season']=season\n",
    "    test.loc[i,'WTeamID']=wid\n",
    "    test.loc[i,'LTeamID']=lid\n",
    "\n",
    "test['Season']=test['Season'].astype(int)\n",
    "test['WTeamID']=test['WTeamID'].astype(int)\n",
    "test['LTeamID']=test['LTeamID'].astype(int)\n",
    "test.head()"
   ]
  },
  {
   "cell_type": "code",
   "execution_count": 22,
   "metadata": {},
   "outputs": [
    {
     "data": {
      "text/html": [
       "<div>\n",
       "<style scoped>\n",
       "    .dataframe tbody tr th:only-of-type {\n",
       "        vertical-align: middle;\n",
       "    }\n",
       "\n",
       "    .dataframe tbody tr th {\n",
       "        vertical-align: top;\n",
       "    }\n",
       "\n",
       "    .dataframe thead th {\n",
       "        text-align: right;\n",
       "    }\n",
       "</style>\n",
       "<table border=\"1\" class=\"dataframe\">\n",
       "  <thead>\n",
       "    <tr style=\"text-align: right;\">\n",
       "      <th></th>\n",
       "      <th>Season</th>\n",
       "      <th>WTeamID</th>\n",
       "      <th>LTeamID</th>\n",
       "      <th>WSeed</th>\n",
       "      <th>LSeed</th>\n",
       "      <th>SeedDiff</th>\n",
       "    </tr>\n",
       "  </thead>\n",
       "  <tbody>\n",
       "    <tr>\n",
       "      <th>0</th>\n",
       "      <td>2018</td>\n",
       "      <td>3110</td>\n",
       "      <td>3113</td>\n",
       "      <td>14</td>\n",
       "      <td>7</td>\n",
       "      <td>7</td>\n",
       "    </tr>\n",
       "    <tr>\n",
       "      <th>1</th>\n",
       "      <td>2018</td>\n",
       "      <td>3110</td>\n",
       "      <td>3114</td>\n",
       "      <td>14</td>\n",
       "      <td>14</td>\n",
       "      <td>0</td>\n",
       "    </tr>\n",
       "    <tr>\n",
       "      <th>2</th>\n",
       "      <td>2018</td>\n",
       "      <td>3110</td>\n",
       "      <td>3124</td>\n",
       "      <td>14</td>\n",
       "      <td>2</td>\n",
       "      <td>12</td>\n",
       "    </tr>\n",
       "    <tr>\n",
       "      <th>3</th>\n",
       "      <td>2018</td>\n",
       "      <td>3110</td>\n",
       "      <td>3125</td>\n",
       "      <td>14</td>\n",
       "      <td>12</td>\n",
       "      <td>2</td>\n",
       "    </tr>\n",
       "    <tr>\n",
       "      <th>4</th>\n",
       "      <td>2018</td>\n",
       "      <td>3110</td>\n",
       "      <td>3129</td>\n",
       "      <td>14</td>\n",
       "      <td>16</td>\n",
       "      <td>-2</td>\n",
       "    </tr>\n",
       "  </tbody>\n",
       "</table>\n",
       "</div>"
      ],
      "text/plain": [
       "   Season  WTeamID  LTeamID  WSeed  LSeed  SeedDiff\n",
       "0    2018     3110     3113     14      7         7\n",
       "1    2018     3110     3114     14     14         0\n",
       "2    2018     3110     3124     14      2        12\n",
       "3    2018     3110     3125     14     12         2\n",
       "4    2018     3110     3129     14     16        -2"
      ]
     },
     "execution_count": 22,
     "metadata": {},
     "output_type": "execute_result"
    }
   ],
   "source": [
    "df_dummy=pd.merge(left=test,right=winseeds,how='left',on=['Season','WTeamID'])\n",
    "test=pd.merge(left=df_dummy,right=lossseeds,how='left',on=['Season','LTeamID'])\n",
    "\n",
    "test.drop(columns=['WRegion','LRegion'],inplace=True)\n",
    "test['SeedDiff']=test['WSeed']-test['LSeed']\n",
    "test.head()"
   ]
  },
  {
   "cell_type": "markdown",
   "metadata": {},
   "source": [
    "# predictions of regressor"
   ]
  },
  {
   "cell_type": "code",
   "execution_count": 23,
   "metadata": {},
   "outputs": [
    {
     "data": {
      "text/html": [
       "<div>\n",
       "<style scoped>\n",
       "    .dataframe tbody tr th:only-of-type {\n",
       "        vertical-align: middle;\n",
       "    }\n",
       "\n",
       "    .dataframe tbody tr th {\n",
       "        vertical-align: top;\n",
       "    }\n",
       "\n",
       "    .dataframe thead th {\n",
       "        text-align: right;\n",
       "    }\n",
       "</style>\n",
       "<table border=\"1\" class=\"dataframe\">\n",
       "  <thead>\n",
       "    <tr style=\"text-align: right;\">\n",
       "      <th></th>\n",
       "      <th>Season</th>\n",
       "      <th>WTeamID</th>\n",
       "      <th>LTeamID</th>\n",
       "      <th>WSeed</th>\n",
       "      <th>LSeed</th>\n",
       "      <th>SeedDiff</th>\n",
       "      <th>DiffbyRegressor</th>\n",
       "    </tr>\n",
       "  </thead>\n",
       "  <tbody>\n",
       "    <tr>\n",
       "      <th>0</th>\n",
       "      <td>2018</td>\n",
       "      <td>3110</td>\n",
       "      <td>3113</td>\n",
       "      <td>14</td>\n",
       "      <td>7</td>\n",
       "      <td>7</td>\n",
       "      <td>-12.642154</td>\n",
       "    </tr>\n",
       "    <tr>\n",
       "      <th>1</th>\n",
       "      <td>2018</td>\n",
       "      <td>3110</td>\n",
       "      <td>3114</td>\n",
       "      <td>14</td>\n",
       "      <td>14</td>\n",
       "      <td>0</td>\n",
       "      <td>-0.688757</td>\n",
       "    </tr>\n",
       "    <tr>\n",
       "      <th>2</th>\n",
       "      <td>2018</td>\n",
       "      <td>3110</td>\n",
       "      <td>3124</td>\n",
       "      <td>14</td>\n",
       "      <td>2</td>\n",
       "      <td>12</td>\n",
       "      <td>-29.073074</td>\n",
       "    </tr>\n",
       "    <tr>\n",
       "      <th>3</th>\n",
       "      <td>2018</td>\n",
       "      <td>3110</td>\n",
       "      <td>3125</td>\n",
       "      <td>14</td>\n",
       "      <td>12</td>\n",
       "      <td>2</td>\n",
       "      <td>-8.113288</td>\n",
       "    </tr>\n",
       "    <tr>\n",
       "      <th>4</th>\n",
       "      <td>2018</td>\n",
       "      <td>3110</td>\n",
       "      <td>3129</td>\n",
       "      <td>14</td>\n",
       "      <td>16</td>\n",
       "      <td>-2</td>\n",
       "      <td>9.717129</td>\n",
       "    </tr>\n",
       "  </tbody>\n",
       "</table>\n",
       "</div>"
      ],
      "text/plain": [
       "   Season  WTeamID  LTeamID  WSeed  LSeed  SeedDiff  DiffbyRegressor\n",
       "0    2018     3110     3113     14      7         7       -12.642154\n",
       "1    2018     3110     3114     14     14         0        -0.688757\n",
       "2    2018     3110     3124     14      2        12       -29.073074\n",
       "3    2018     3110     3125     14     12         2        -8.113288\n",
       "4    2018     3110     3129     14     16        -2         9.717129"
      ]
     },
     "execution_count": 23,
     "metadata": {},
     "output_type": "execute_result"
    }
   ],
   "source": [
    "X_test=test.iloc[:,[5]].values\n",
    "test['DiffbyRegressor']=xgr.predict(X_test)\n",
    "test.head()"
   ]
  },
  {
   "cell_type": "code",
   "execution_count": 24,
   "metadata": {},
   "outputs": [
    {
     "data": {
      "text/html": [
       "<div>\n",
       "<style scoped>\n",
       "    .dataframe tbody tr th:only-of-type {\n",
       "        vertical-align: middle;\n",
       "    }\n",
       "\n",
       "    .dataframe tbody tr th {\n",
       "        vertical-align: top;\n",
       "    }\n",
       "\n",
       "    .dataframe thead th {\n",
       "        text-align: right;\n",
       "    }\n",
       "</style>\n",
       "<table border=\"1\" class=\"dataframe\">\n",
       "  <thead>\n",
       "    <tr style=\"text-align: right;\">\n",
       "      <th></th>\n",
       "      <th>Season</th>\n",
       "      <th>SeedDiff</th>\n",
       "      <th>ScoreDiff</th>\n",
       "      <th>Result</th>\n",
       "      <th>DiffbyRegressor</th>\n",
       "    </tr>\n",
       "  </thead>\n",
       "  <tbody>\n",
       "    <tr>\n",
       "      <th>0</th>\n",
       "      <td>1998</td>\n",
       "      <td>-13</td>\n",
       "      <td>48</td>\n",
       "      <td>1</td>\n",
       "      <td>26.988544</td>\n",
       "    </tr>\n",
       "    <tr>\n",
       "      <th>1</th>\n",
       "      <td>1998</td>\n",
       "      <td>-11</td>\n",
       "      <td>12</td>\n",
       "      <td>1</td>\n",
       "      <td>19.175648</td>\n",
       "    </tr>\n",
       "    <tr>\n",
       "      <th>2</th>\n",
       "      <td>1998</td>\n",
       "      <td>-13</td>\n",
       "      <td>41</td>\n",
       "      <td>1</td>\n",
       "      <td>26.988544</td>\n",
       "    </tr>\n",
       "    <tr>\n",
       "      <th>3</th>\n",
       "      <td>1998</td>\n",
       "      <td>-3</td>\n",
       "      <td>14</td>\n",
       "      <td>1</td>\n",
       "      <td>5.767014</td>\n",
       "    </tr>\n",
       "    <tr>\n",
       "      <th>4</th>\n",
       "      <td>1998</td>\n",
       "      <td>3</td>\n",
       "      <td>2</td>\n",
       "      <td>1</td>\n",
       "      <td>-6.155714</td>\n",
       "    </tr>\n",
       "  </tbody>\n",
       "</table>\n",
       "</div>"
      ],
      "text/plain": [
       "   Season  SeedDiff  ScoreDiff  Result  DiffbyRegressor\n",
       "0    1998       -13         48       1        26.988544\n",
       "1    1998       -11         12       1        19.175648\n",
       "2    1998       -13         41       1        26.988544\n",
       "3    1998        -3         14       1         5.767014\n",
       "4    1998         3          2       1        -6.155714"
      ]
     },
     "execution_count": 24,
     "metadata": {},
     "output_type": "execute_result"
    }
   ],
   "source": [
    "data.head()"
   ]
  },
  {
   "cell_type": "markdown",
   "metadata": {},
   "source": [
    "## predictions of classifier"
   ]
  },
  {
   "cell_type": "code",
   "execution_count": 25,
   "metadata": {},
   "outputs": [
    {
     "data": {
      "text/html": [
       "<div>\n",
       "<style scoped>\n",
       "    .dataframe tbody tr th:only-of-type {\n",
       "        vertical-align: middle;\n",
       "    }\n",
       "\n",
       "    .dataframe tbody tr th {\n",
       "        vertical-align: top;\n",
       "    }\n",
       "\n",
       "    .dataframe thead th {\n",
       "        text-align: right;\n",
       "    }\n",
       "</style>\n",
       "<table border=\"1\" class=\"dataframe\">\n",
       "  <thead>\n",
       "    <tr style=\"text-align: right;\">\n",
       "      <th></th>\n",
       "      <th>ID</th>\n",
       "      <th>Pred</th>\n",
       "    </tr>\n",
       "  </thead>\n",
       "  <tbody>\n",
       "    <tr>\n",
       "      <th>0</th>\n",
       "      <td>2018_3110_3113</td>\n",
       "      <td>0.135979</td>\n",
       "    </tr>\n",
       "    <tr>\n",
       "      <th>1</th>\n",
       "      <td>2018_3110_3114</td>\n",
       "      <td>0.482808</td>\n",
       "    </tr>\n",
       "    <tr>\n",
       "      <th>2</th>\n",
       "      <td>2018_3110_3124</td>\n",
       "      <td>0.004531</td>\n",
       "    </tr>\n",
       "    <tr>\n",
       "      <th>3</th>\n",
       "      <td>2018_3110_3125</td>\n",
       "      <td>0.250959</td>\n",
       "    </tr>\n",
       "    <tr>\n",
       "      <th>4</th>\n",
       "      <td>2018_3110_3129</td>\n",
       "      <td>0.781655</td>\n",
       "    </tr>\n",
       "  </tbody>\n",
       "</table>\n",
       "</div>"
      ],
      "text/plain": [
       "               ID      Pred\n",
       "0  2018_3110_3113  0.135979\n",
       "1  2018_3110_3114  0.482808\n",
       "2  2018_3110_3124  0.004531\n",
       "3  2018_3110_3125  0.250959\n",
       "4  2018_3110_3129  0.781655"
      ]
     },
     "execution_count": 25,
     "metadata": {},
     "output_type": "execute_result"
    }
   ],
   "source": [
    "X_test=test.iloc[:,[5,6]].values\n",
    "sample_submission['Pred']=xgc.predict_proba(X_test)[:,1]\n",
    "sample_submission.head()"
   ]
  },
  {
   "cell_type": "code",
   "execution_count": 26,
   "metadata": {},
   "outputs": [
    {
     "name": "stdout",
     "output_type": "stream",
     "text": [
      "Done\n"
     ]
    }
   ],
   "source": [
    "sample_submission.to_csv(\"Trying_something_new_stage2_2014.csv\",index=False)\n",
    "print(\"Done\")"
   ]
  },
  {
   "cell_type": "code",
   "execution_count": 27,
   "metadata": {},
   "outputs": [
    {
     "data": {
      "text/html": [
       "<div>\n",
       "<style scoped>\n",
       "    .dataframe tbody tr th:only-of-type {\n",
       "        vertical-align: middle;\n",
       "    }\n",
       "\n",
       "    .dataframe tbody tr th {\n",
       "        vertical-align: top;\n",
       "    }\n",
       "\n",
       "    .dataframe thead th {\n",
       "        text-align: right;\n",
       "    }\n",
       "</style>\n",
       "<table border=\"1\" class=\"dataframe\">\n",
       "  <thead>\n",
       "    <tr style=\"text-align: right;\">\n",
       "      <th></th>\n",
       "      <th>ID</th>\n",
       "      <th>Pred</th>\n",
       "    </tr>\n",
       "  </thead>\n",
       "  <tbody>\n",
       "    <tr>\n",
       "      <th>0</th>\n",
       "      <td>2018_3110_3113</td>\n",
       "      <td>0.138128</td>\n",
       "    </tr>\n",
       "    <tr>\n",
       "      <th>1</th>\n",
       "      <td>2018_3110_3114</td>\n",
       "      <td>0.485856</td>\n",
       "    </tr>\n",
       "    <tr>\n",
       "      <th>2</th>\n",
       "      <td>2018_3110_3124</td>\n",
       "      <td>0.011549</td>\n",
       "    </tr>\n",
       "    <tr>\n",
       "      <th>3</th>\n",
       "      <td>2018_3110_3125</td>\n",
       "      <td>0.259705</td>\n",
       "    </tr>\n",
       "    <tr>\n",
       "      <th>4</th>\n",
       "      <td>2018_3110_3129</td>\n",
       "      <td>0.779512</td>\n",
       "    </tr>\n",
       "  </tbody>\n",
       "</table>\n",
       "</div>"
      ],
      "text/plain": [
       "               ID      Pred\n",
       "0  2018_3110_3113  0.138128\n",
       "1  2018_3110_3114  0.485856\n",
       "2  2018_3110_3124  0.011549\n",
       "3  2018_3110_3125  0.259705\n",
       "4  2018_3110_3129  0.779512"
      ]
     },
     "execution_count": 27,
     "metadata": {},
     "output_type": "execute_result"
    }
   ],
   "source": [
    "X_test=test.iloc[:,[5,6]].values\n",
    "sample_submission['Pred']=0.5*xgc.predict_proba(X_test)[:,1]+0.5*lr.predict_proba(X_test)[:,1]\n",
    "sample_submission.head()"
   ]
  },
  {
   "cell_type": "code",
   "execution_count": 28,
   "metadata": {},
   "outputs": [
    {
     "name": "stdout",
     "output_type": "stream",
     "text": [
      "Done\n"
     ]
    }
   ],
   "source": [
    "sample_submission.to_csv(\"Trying_something_new_ensemble_stage2_2014.csv\")\n",
    "print(\"Done\")"
   ]
  },
  {
   "cell_type": "markdown",
   "metadata": {},
   "source": [
    "The result of each submission is given in combo.ipynb"
   ]
  }
 ],
 "metadata": {
  "kernelspec": {
   "display_name": "Python 3",
   "language": "python",
   "name": "python3"
  },
  "language_info": {
   "codemirror_mode": {
    "name": "ipython",
    "version": 3
   },
   "file_extension": ".py",
   "mimetype": "text/x-python",
   "name": "python",
   "nbconvert_exporter": "python",
   "pygments_lexer": "ipython3",
   "version": "3.6.2"
  }
 },
 "nbformat": 4,
 "nbformat_minor": 2
}
