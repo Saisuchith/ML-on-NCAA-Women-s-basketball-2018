{
 "cells": [
  {
   "cell_type": "code",
   "execution_count": null,
   "metadata": {},
   "outputs": [],
   "source": [
    "import numpy as np\n",
    "import pandas as pd\n",
    "import seaborn as sns\n",
    "import matplotlib.pyplot as plt\n",
    "\n",
    "from sklearn.linear_model import LinearRegression,LogisticRegression,Ridge,Lasso\n",
    "from sklearn.model_selection import GridSearchCV,train_test_split\n",
    "from sklearn.utils import shuffle\n",
    "from sklearn.ensemble import RandomForestClassifier,RandomForestRegressor\n",
    "from xgboost import XGBRegressor,XGBClassifier\n",
    "from sklearn.metrics import log_loss\n",
    "from sklearn.svm import LinearSVC,LinearSVR,SVC,SVR\n",
    "from scipy.stats import norm,skew\n",
    "\n",
    "# Setting the number of columns to display\n",
    "pd.set_option('display.max_columns', None)\n",
    "# year\n",
    "yr=2014"
   ]
  },
  {
   "cell_type": "markdown",
   "metadata": {},
   "source": [
    "### detailed is from 2010 to 2018. but i am using from this 2010 to 2013\n",
    "\n",
    "these are the full forms \n",
    "\n",
    "WFGM - field goals made (by the winning team)\n",
    "\n",
    "WFGA - field goals attempted (by the winning team)\n",
    "\n",
    "WFGM3 - three pointers made (by the winning team)\n",
    "\n",
    "WFGA3 - three pointers attempted (by the winning team)\n",
    "\n",
    "WFTM - free throws made (by the winning team)\n",
    "\n",
    "WFTA - free throws attempted (by the winning team)\n",
    "\n",
    "WOR - offensive rebounds (pulled by the winning team)\n",
    "\n",
    "WDR - defensive rebounds (pulled by the winning team)\n",
    "\n",
    "WAst - assists (by the winning team)\n",
    "\n",
    "WTO - turnovers committed (by the winning team)\n",
    "\n",
    "WStl - steals (accomplished by the winning team)\n",
    "\n",
    "WBlk - blocks (accomplished by the winning team)\n",
    "\n",
    "WPF - personal fouls committed (by the winning team)"
   ]
  },
  {
   "cell_type": "code",
   "execution_count": null,
   "metadata": {},
   "outputs": [],
   "source": [
    "cities=pd.read_csv(\"WPrelimData2018/WCities_PrelimData2018.csv\")\n",
    "game_cities=pd.read_csv(\"WPrelimData2018/WGameCities_PrelimData2018.csv\")\n",
    "\n",
    "tourney_seeds=pd.read_csv(\"WDataFiles/WNCAATourneySeeds.csv\")\n",
    "\n",
    "regular_season_results=pd.read_csv(\"WPrelimData2018/WRegularSeasonCompactResults_PrelimData2018.csv\")\n",
    "detailed_regular_season=pd.read_csv(\"WPrelimData2018/WRegularSeasonDetailedResults_PrelimData2018.csv\")\n",
    "\n",
    "tourney_results=pd.read_csv(\"WPrelimData2018/WNCAATourneyCompactResults_PrelimData2018.csv\")\n",
    "detailed_tourney=pd.read_csv(\"WPrelimData2018/WNCAATourneyDetailedResults_PrelimData2018.csv\")\n",
    "\n",
    "\n",
    "# regular_season_results=regular_season_results.loc[regular_season_results['Season']<=yr]\n",
    "# tourney_results=tourney_results.loc[tourney_results['Season']<yr]\n",
    "\n",
    "detailed_regular_season=detailed_regular_season.loc[detailed_regular_season['Season']<=yr]\n",
    "detailed_tourney=detailed_tourney.loc[detailed_tourney['Season']<yr]\n",
    "\n",
    "sample_submission=pd.read_csv(\"WDataFiles/WSampleSubmissionStage1.csv\")\n",
    "\n",
    "print(\"Regular season results\",regular_season_results.shape,detailed_regular_season.shape)\n",
    "print(\"Tourney results\",tourney_results.shape,detailed_tourney.shape)"
   ]
  },
  {
   "cell_type": "code",
   "execution_count": null,
   "metadata": {},
   "outputs": [],
   "source": [
    "detailed_tourney['Type']=1          # tournament\n",
    "detailed_regular_season['Type']=0      #regular season\n",
    "detailed_tourney=pd.concat([detailed_tourney,detailed_regular_season],axis=0,ignore_index=True)\n",
    "print(detailed_tourney.shape)\n",
    "detailed_tourney.head()"
   ]
  },
  {
   "cell_type": "code",
   "execution_count": null,
   "metadata": {},
   "outputs": [],
   "source": [
    "# adding seeds to tournnament results\n",
    "def extract_seedint(seed):\n",
    "    k=int(seed[1:])\n",
    "    return k;\n",
    "def region(seed):\n",
    "    return seed[0];\n",
    "tourney_seeds['seed_int']=tourney_seeds['Seed'].apply(extract_seedint)\n",
    "tourney_seeds['region']=tourney_seeds['Seed'].apply(region)\n",
    "tourney_seeds.drop(columns=['Seed'],inplace=True)\n",
    "\n",
    "winseeds = tourney_seeds.rename(columns={'TeamID':'WTeamID', 'seed_int':'WSeed','region':'WRegion'})\n",
    "lossseeds = tourney_seeds.rename(columns={'TeamID':'LTeamID', 'seed_int':'LSeed','region':'LRegion'})\n",
    "df_dummy = pd.merge(left=tourney_results, right=winseeds, how='left', on=['Season', 'WTeamID'])\n",
    "tourney_results= pd.merge(left=df_dummy, right=lossseeds,how='left',on=['Season', 'LTeamID'])"
   ]
  },
  {
   "cell_type": "code",
   "execution_count": null,
   "metadata": {
    "scrolled": false
   },
   "outputs": [],
   "source": [
    "# the formulae for the possession in the paper is wrong..!!!\n",
    "detailed_tourney['WPossessions']=detailed_tourney['WFGA']-detailed_tourney['WOR']+detailed_tourney['WTO']+0.475*detailed_tourney['WFTA']\n",
    "detailed_tourney['LPossessions']=detailed_tourney['LFGA']-detailed_tourney['LOR']+detailed_tourney['LTO']+0.475*detailed_tourney['LFTA']\n",
    "\n",
    "# in a game the possesion of the two teams are nearly same(+2 or -2). So we can take the average\n",
    "# the details is given in the link  https://kenpom.com/blog/stats-explained/\n",
    "detailed_tourney['Possessions']=detailed_tourney['WPossessions']*0.5+detailed_tourney['LPossessions']*0.5\n",
    "\n",
    "# offensive and defensive effiencies by dividing the effincies with the average number\n",
    "detailed_tourney['WOE']=(detailed_tourney['WScore']*100)/detailed_tourney['Possessions']\n",
    "detailed_tourney['WDE']=(detailed_tourney['LScore']*100)/detailed_tourney['Possessions']\n",
    "\n",
    "detailed_tourney['LOE']=(detailed_tourney['LScore']*100)/detailed_tourney['Possessions']\n",
    "detailed_tourney['LDE']=(detailed_tourney['WScore']*100)/detailed_tourney['Possessions']\n",
    "\n",
    "# adding seeds \n",
    "df_dummy = pd.merge(left=detailed_tourney, right=winseeds, how='left', on=['Season', 'WTeamID'])\n",
    "detailed_tourney= pd.merge(left=df_dummy, right=lossseeds,how='left',on=['Season', 'LTeamID'])\n",
    "\n",
    "detailed_tourney['WSeed'].fillna(0,inplace=True)\n",
    "detailed_tourney['LSeed'].fillna(0,inplace=True)\n",
    "\n",
    "# finding the seed difference\n",
    "detailed_tourney['SeedDiff']=detailed_tourney['WSeed']-detailed_tourney['LSeed']\n",
    "\n",
    "# dropping the region columns \n",
    "detailed_tourney.drop(columns=['WRegion','LRegion'],inplace=True)\n",
    "\n",
    "\n",
    "\n",
    "\n",
    "print(detailed_tourney.shape)\n",
    "detailed_tourney.head()"
   ]
  },
  {
   "cell_type": "markdown",
   "metadata": {},
   "source": [
    "I will calculate the national offensive and defensive effi\n",
    "\n",
    "May I will use this to find the adjusted offensive and defensive effi. But currently I dont know any formuale for calculating the adjusted effi"
   ]
  },
  {
   "cell_type": "code",
   "execution_count": null,
   "metadata": {
    "scrolled": true
   },
   "outputs": [],
   "source": [
    "# now i have to calculate the adjusted OE,DE for winning team and losing team\n",
    "# before that I have to calculate the team offensive and defensive efficiency overall games \n",
    "woe=pd.DataFrame()\n",
    "wde=pd.DataFrame()\n",
    "woe['TeamID']=detailed_tourney.groupby('WTeamID').WOE.sum().index\n",
    "woe['wOE']=detailed_tourney.groupby('WTeamID').WOE.sum().values\n",
    "\n",
    "wde['TeamID']=detailed_tourney.groupby('WTeamID').WDE.sum().index\n",
    "wde['wDE']=detailed_tourney.groupby('WTeamID').WDE.sum().values\n",
    "\n",
    "loe=pd.DataFrame()\n",
    "lde=pd.DataFrame()\n",
    "loe['TeamID']=detailed_tourney.groupby('LTeamID').LOE.sum().index\n",
    "loe['lOE']=detailed_tourney.groupby('LTeamID').LOE.sum().values\n",
    "\n",
    "lde['TeamID']=detailed_tourney.groupby('LTeamID').LDE.sum().index\n",
    "lde['lDE']=detailed_tourney.groupby('LTeamID').LDE.sum().values\n",
    "\n",
    "oe=pd.merge(left=woe,right=loe,how='outer',on=['TeamID'])\n",
    "de=pd.merge(left=wde,right=lde,how='outer',on=['TeamID'])\n",
    "\n",
    "oe.fillna(0,inplace=True)\n",
    "de.fillna(0,inplace=True)\n",
    "\n",
    "oe['OE']=oe['wOE']+oe['lOE']\n",
    "oe.drop(columns=['wOE','lOE'],inplace=True)\n",
    "\n",
    "de['DE']=de['wDE']+de['lDE']\n",
    "de.drop(columns=['wDE','lDE'],inplace=True)\n",
    "\n",
    "# number of games \n",
    "wgames=pd.DataFrame()\n",
    "wgames['TeamID']=detailed_tourney['WTeamID'].value_counts().index\n",
    "wgames['wcount']=detailed_tourney['WTeamID'].value_counts().values\n",
    "\n",
    "lgames=pd.DataFrame()\n",
    "lgames['TeamID']=detailed_tourney['LTeamID'].value_counts().index\n",
    "lgames['lcount']=detailed_tourney['LTeamID'].value_counts().values\n",
    "\n",
    "\n",
    "games=pd.merge(left=wgames,right=lgames,how='outer',on=['TeamID'])\n",
    "games['wcount'].fillna(0,inplace=True)\n",
    "games['lcount'].fillna(0,inplace=True)\n",
    "games['number']=games['wcount']+games['lcount']\n",
    "games.drop(columns=['wcount','lcount'],inplace=True)\n",
    "\n",
    "oe=pd.merge(left=oe,right=games,how='outer',on=['TeamID'])\n",
    "de=pd.merge(left=de,right=games,how='outer',on=['TeamID'])\n",
    "\n",
    "oe['OE']=oe['OE']/oe['number']\n",
    "de['DE']=de['DE']/de['number']\n",
    "\n",
    "oe.drop(columns=['number'],inplace=True)\n",
    "de.drop(columns=['number'],inplace=True)\n",
    "\n",
    "print(oe.shape,de.shape)\n",
    "\n",
    "national_oe_average=(oe['OE'].sum())/(oe['OE'].shape[0])\n",
    "national_de_average=(de['DE'].sum())/(de['DE'].shape[0])\n",
    "print(\"The national offensive average is\",national_oe_average)\n",
    "print(\"The national defensive average is\",national_de_average)"
   ]
  },
  {
   "cell_type": "markdown",
   "metadata": {},
   "source": [
    "## TRAIN DATA PREPROCESSING"
   ]
  },
  {
   "cell_type": "code",
   "execution_count": null,
   "metadata": {
    "scrolled": true
   },
   "outputs": [],
   "source": [
    "def change(s):\n",
    "    if s=='N':\n",
    "        return 0;\n",
    "    elif s=='H':\n",
    "        return 1;\n",
    "    else:\n",
    "        return -1;\n",
    "\n",
    "    \n",
    "\n",
    "df_dummy=pd.merge(left=detailed_tourney\n",
    "                  ,right=oe.rename(columns={'TeamID':'WTeamID','OE':'WOE_avg'}),\n",
    "                  how='left',on=['WTeamID'])\n",
    "\n",
    "detailed_tourney=pd.merge(left=df_dummy\n",
    "                           ,right=de.rename(columns={'TeamID':'WTeamID','DE':'WDE_avg'})\n",
    "                           ,how='left',on=['WTeamID'])\n",
    "\n",
    "df_dummy=pd.merge(left=detailed_tourney,\n",
    "                  right=oe.rename(columns={'TeamID':'LTeamID','OE':'LOE_avg'}),\n",
    "                  how='left',on=['LTeamID'])\n",
    "\n",
    "detailed_tourney=pd.merge(left=df_dummy,\n",
    "                          right=de.rename(columns={'TeamID':'LTeamID','DE':'LDE_avg'}),\n",
    "                          how='left',on=['LTeamID'])\n",
    "\n",
    "# finding the effi margin\n",
    "detailed_tourney['WEM']=detailed_tourney['WOE_avg']-detailed_tourney['WDE_avg']\n",
    "detailed_tourney['LEM']=detailed_tourney['LOE_avg']-detailed_tourney['LDE_avg']\n",
    "\n",
    "# adjusted effi/ This is what i understood from the definition https://kenpom.com/blog/ratings-glossary/\n",
    "detailed_tourney['']\n",
    "\n",
    "\n",
    "\n",
    "detailed_tourney=detailed_tourney.loc[:,['WLoc','WOE_avg','WDE_avg','LOE_avg','LDE_avg','Type','SeedDiff','WEM','LEM',]]\n",
    "detailed_tourney['WLoc']=detailed_tourney['WLoc'].apply(change)\n",
    "detailed_tourney['Result']=1\n",
    "\n",
    "temp=pd.DataFrame()\n",
    "\n",
    "# creating features\n",
    "temp['WLoc']=-detailed_tourney['WLoc']\n",
    "\n",
    "temp['WOE_avg']=detailed_tourney['LOE_avg']\n",
    "\n",
    "temp['WDE_avg']=detailed_tourney['LDE_avg']\n",
    "\n",
    "temp['LOE_avg']=detailed_tourney['WOE_avg']\n",
    "\n",
    "temp['LDE_avg']=detailed_tourney['WDE_avg']\n",
    "\n",
    "temp['Type']=detailed_tourney['Type']\n",
    "\n",
    "temp['SeedDiff']=-detailed_tourney['SeedDiff']\n",
    "\n",
    "temp['WEM']=detailed_tourney['LEM']\n",
    "\n",
    "temp['LEM']=detailed_tourney['WEM']\n",
    "\n",
    "temp['Result']=0\n",
    "\n",
    "games=pd.concat([detailed_tourney,temp],axis=0,ignore_index=True)\n",
    "# games=games.loc[games['Type']==1]\n",
    "print(games.shape)\n",
    "games.head()"
   ]
  },
  {
   "cell_type": "markdown",
   "metadata": {},
   "source": [
    "## TEST PREPREOCESSING"
   ]
  },
  {
   "cell_type": "code",
   "execution_count": null,
   "metadata": {
    "scrolled": true
   },
   "outputs": [],
   "source": [
    "def yr(s):\n",
    "    yr,team1,team2=map(int,s.split('_'))\n",
    "    return yr;\n",
    "\n",
    "def t1(s):\n",
    "    yr,team1,team2=map(int,s.split('_'))\n",
    "    return team1;\n",
    "\n",
    "def t2(s):\n",
    "    yr,team1,team2=map(int,s.split('_'))\n",
    "    return team2;\n",
    "\n",
    "sample_submission['Season']=sample_submission['ID'].apply(yr)\n",
    "sample_submission['WTeamID']=sample_submission['ID'].apply(t1)\n",
    "sample_submission['LTeamID']=sample_submission['ID'].apply(t2)\n",
    "\n",
    "\n",
    "df_dummy=pd.merge(left=sample_submission,\n",
    "                  right=oe.rename(columns={'TeamID':'WTeamID','OE':'WOE_avg'}),\n",
    "                  how='left',on=['WTeamID'])\n",
    "\n",
    "sample_submission=pd.merge(left=df_dummy,\n",
    "                           right=de.rename(columns={'TeamID':'WTeamID','DE':'WDE_avg'}),\n",
    "                           how='left',on=['WTeamID'])\n",
    "\n",
    "df_dummy=pd.merge(left=sample_submission,\n",
    "                  right=oe.rename(columns={'TeamID':'LTeamID','OE':'LOE_avg'}),\n",
    "                  how='left',on=['LTeamID'])\n",
    "\n",
    "sample_submission=pd.merge(left=df_dummy,\n",
    "                           right=de.rename(columns={'TeamID':'LTeamID','DE':'LDE_avg'}),\n",
    "                           how='left',on=['LTeamID'])\n",
    "#adding effi margin\n",
    "sample_submission['WEM']=sample_submission['WOE_avg']-sample_submission['WDE_avg']\n",
    "sample_submission['LEM']=sample_submission['LOE_avg']-sample_submission['LDE_avg']\n",
    "\n",
    "\n",
    "# adding seeds \n",
    "df_dummy = pd.merge(left=sample_submission, right=winseeds, how='left', on=['Season', 'WTeamID'])\n",
    "sample_submission= pd.merge(left=df_dummy, right=lossseeds,how='left',on=['Season', 'LTeamID'])\n",
    "\n",
    "sample_submission['WSeed'].fillna(0,inplace=True)\n",
    "sample_submission['LSeed'].fillna(0,inplace=True)\n",
    "\n",
    "sample_submission['SeedDiff']=sample_submission['WSeed']-sample_submission['LSeed']\n",
    "sample_submission.drop(columns=['WRegion','LRegion'],inplace=True)\n",
    "\n",
    "sample_submission['WLoc']=0\n",
    "sample_submission['Type']=1\n",
    "\n",
    "sample_submission.head()"
   ]
  },
  {
   "cell_type": "code",
   "execution_count": null,
   "metadata": {},
   "outputs": [],
   "source": [
    "X_test=sample_submission.loc[:,['WLoc','WOE_avg','WDE_avg','LOE_avg','LDE_avg','SeedDiff']].values"
   ]
  },
  {
   "cell_type": "markdown",
   "metadata": {},
   "source": [
    "## TRAINING"
   ]
  },
  {
   "cell_type": "code",
   "execution_count": null,
   "metadata": {},
   "outputs": [],
   "source": [
    "X=games.loc[:,['WLoc','WOE_avg','WDE_avg','LOE_avg','LDE_avg','SeedDiff','WEM','LEM']].values\n",
    "y=games.loc[:,'Result'].values\n",
    "\n",
    "X_train,X_val,y_train,y_val=train_test_split(X,y,test_size=0.1,shuffle=True,random_state=42)\n",
    "\n",
    "\n",
    "print(\"Training Shape\",X_train.shape)\n",
    "print(\"Training Label Shape\",y_train.shape)\n",
    "print(\"Validation Shape\",X_val.shape)\n",
    "print(\"Validation Label Shape\",y_val.shape)\n",
    "print(\"Test Shape\",X_test.shape)"
   ]
  },
  {
   "cell_type": "markdown",
   "metadata": {},
   "source": [
    "## LOGISTIC REGRESSION"
   ]
  },
  {
   "cell_type": "code",
   "execution_count": null,
   "metadata": {
    "scrolled": true
   },
   "outputs": [],
   "source": [
    "param={'C':[0.001,0.003,0.006,0.01,0.02,0.03,0.04,0.05,0.06,1,3,6,10]}\n",
    "lr=LogisticRegression()\n",
    "gridsearch=GridSearchCV(lr,param_grid=param,scoring='neg_log_loss',cv=5)\n",
    "gridsearch.fit(X_train,y_train)\n",
    "print(\"The Best C is\",gridsearch.best_params_['C'])"
   ]
  },
  {
   "cell_type": "code",
   "execution_count": null,
   "metadata": {
    "scrolled": true
   },
   "outputs": [],
   "source": [
    "lr=LogisticRegression(C=gridsearch.best_params_['C'])\n",
    "lr.fit(X_train,y_train)\n",
    "print(\"The Training Log loss is\",log_loss(y_train,lr.predict_proba(X_train)[:,1]))\n",
    "print(\"The Validation Log loss is\",log_loss(y_val,lr.predict_proba(X_val)[:,1]))"
   ]
  },
  {
   "cell_type": "code",
   "execution_count": null,
   "metadata": {},
   "outputs": [],
   "source": [
    "xgb=XGBClassifier()\n",
    "xgb.fit(X_train,y_train)\n",
    "print(\"The Training Log loss is\",log_loss(y_train,xgb.predict_proba(X_train)[:,1]))\n",
    "print(\"The Validation Log loss is\",log_loss(y_val,xgb.predict_proba(X_val)[:,1]))"
   ]
  },
  {
   "cell_type": "code",
   "execution_count": null,
   "metadata": {},
   "outputs": [],
   "source": [
    "sample_submission['Pred']=xgb.predict_proba(X_test)[:,1]\n",
    "ans=sample_submission.loc[:,['ID','Pred']]\n",
    "ans.head()"
   ]
  },
  {
   "cell_type": "code",
   "execution_count": null,
   "metadata": {},
   "outputs": [],
   "source": [
    "tourney_results.loc[tourney_results['Season']==2014].tail(10)"
   ]
  },
  {
   "cell_type": "code",
   "execution_count": null,
   "metadata": {},
   "outputs": [],
   "source": [
    "sample_submission.Pred.value_counts()"
   ]
  },
  {
   "cell_type": "code",
   "execution_count": null,
   "metadata": {},
   "outputs": [],
   "source": [
    "ans.to_csv(\"dont_trust.csv\",index=False)\n",
    "print(\"Done\")"
   ]
  }
 ],
 "metadata": {
  "kernelspec": {
   "display_name": "Python 3",
   "language": "python",
   "name": "python3"
  },
  "language_info": {
   "codemirror_mode": {
    "name": "ipython",
    "version": 3
   },
   "file_extension": ".py",
   "mimetype": "text/x-python",
   "name": "python",
   "nbconvert_exporter": "python",
   "pygments_lexer": "ipython3",
   "version": "3.6.2"
  }
 },
 "nbformat": 4,
 "nbformat_minor": 2
}
