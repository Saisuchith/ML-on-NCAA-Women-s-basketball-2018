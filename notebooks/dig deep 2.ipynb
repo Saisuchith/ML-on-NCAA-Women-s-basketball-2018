{
 "cells": [
  {
   "cell_type": "code",
   "execution_count": 1,
   "metadata": {},
   "outputs": [],
   "source": [
    "import numpy as np\n",
    "import pandas as pd\n",
    "import seaborn as sns\n",
    "import matplotlib.pyplot as plt\n",
    "\n",
    "from sklearn.linear_model import LinearRegression,LogisticRegression,Ridge,Lasso\n",
    "from sklearn.model_selection import GridSearchCV,train_test_split\n",
    "from sklearn.utils import shuffle\n",
    "from sklearn.ensemble import RandomForestClassifier,RandomForestRegressor\n",
    "from xgboost import XGBRegressor,XGBClassifier\n",
    "from sklearn.metrics import log_loss\n",
    "from sklearn.svm import LinearSVC,LinearSVR,SVC,SVR\n",
    "from scipy.stats import norm,skew\n",
    "\n",
    "# Setting the number of columns to display\n",
    "pd.set_option('display.max_columns', None)\n",
    "# year\n",
    "yr=2014"
   ]
  },
  {
   "cell_type": "code",
   "execution_count": 2,
   "metadata": {},
   "outputs": [
    {
     "name": "stdout",
     "output_type": "stream",
     "text": [
      "Regular season results (101450, 8)\n",
      "Tourney results (1260, 8)\n"
     ]
    }
   ],
   "source": [
    "cities=pd.read_csv(\"WPrelimData2018/WCities_PrelimData2018.csv\")\n",
    "game_cities=pd.read_csv(\"WPrelimData2018/WGameCities_PrelimData2018.csv\")\n",
    "\n",
    "tourney_seeds=pd.read_csv(\"WDataFiles/WNCAATourneySeeds.csv\")\n",
    "\n",
    "regular_season_results=pd.read_csv(\"WPrelimData2018/WRegularSeasonCompactResults_PrelimData2018.csv\")\n",
    "detailed_regular_season=pd.read_csv(\"WPrelimData2018/WRegularSeasonDetailedResults_PrelimData2018.csv\")\n",
    "\n",
    "tourney_results=pd.read_csv(\"WPrelimData2018/WNCAATourneyCompactResults_PrelimData2018.csv\")\n",
    "detailed_tourney=pd.read_csv(\"WPrelimData2018/WNCAATourneyDetailedResults_PrelimData2018.csv\")\n",
    "\n",
    "\n",
    "sample_submission=pd.read_csv(\"WDataFiles/WSampleSubmissionStage1.csv\")\n",
    "\n",
    "print(\"Regular season results\",regular_season_results.shape)\n",
    "print(\"Tourney results\",tourney_results.shape)"
   ]
  },
  {
   "cell_type": "code",
   "execution_count": 3,
   "metadata": {},
   "outputs": [
    {
     "data": {
      "text/html": [
       "<div>\n",
       "<style scoped>\n",
       "    .dataframe tbody tr th:only-of-type {\n",
       "        vertical-align: middle;\n",
       "    }\n",
       "\n",
       "    .dataframe tbody tr th {\n",
       "        vertical-align: top;\n",
       "    }\n",
       "\n",
       "    .dataframe thead th {\n",
       "        text-align: right;\n",
       "    }\n",
       "</style>\n",
       "<table border=\"1\" class=\"dataframe\">\n",
       "  <thead>\n",
       "    <tr style=\"text-align: right;\">\n",
       "      <th></th>\n",
       "      <th>Season</th>\n",
       "      <th>TeamID</th>\n",
       "      <th>seed_int</th>\n",
       "      <th>region</th>\n",
       "    </tr>\n",
       "  </thead>\n",
       "  <tbody>\n",
       "    <tr>\n",
       "      <th>0</th>\n",
       "      <td>1998</td>\n",
       "      <td>3330</td>\n",
       "      <td>1</td>\n",
       "      <td>W</td>\n",
       "    </tr>\n",
       "    <tr>\n",
       "      <th>1</th>\n",
       "      <td>1998</td>\n",
       "      <td>3163</td>\n",
       "      <td>2</td>\n",
       "      <td>W</td>\n",
       "    </tr>\n",
       "    <tr>\n",
       "      <th>2</th>\n",
       "      <td>1998</td>\n",
       "      <td>3112</td>\n",
       "      <td>3</td>\n",
       "      <td>W</td>\n",
       "    </tr>\n",
       "    <tr>\n",
       "      <th>3</th>\n",
       "      <td>1998</td>\n",
       "      <td>3301</td>\n",
       "      <td>4</td>\n",
       "      <td>W</td>\n",
       "    </tr>\n",
       "    <tr>\n",
       "      <th>4</th>\n",
       "      <td>1998</td>\n",
       "      <td>3272</td>\n",
       "      <td>5</td>\n",
       "      <td>W</td>\n",
       "    </tr>\n",
       "    <tr>\n",
       "      <th>5</th>\n",
       "      <td>1998</td>\n",
       "      <td>3438</td>\n",
       "      <td>6</td>\n",
       "      <td>W</td>\n",
       "    </tr>\n",
       "    <tr>\n",
       "      <th>6</th>\n",
       "      <td>1998</td>\n",
       "      <td>3208</td>\n",
       "      <td>7</td>\n",
       "      <td>W</td>\n",
       "    </tr>\n",
       "    <tr>\n",
       "      <th>7</th>\n",
       "      <td>1998</td>\n",
       "      <td>3307</td>\n",
       "      <td>8</td>\n",
       "      <td>W</td>\n",
       "    </tr>\n",
       "    <tr>\n",
       "      <th>8</th>\n",
       "      <td>1998</td>\n",
       "      <td>3304</td>\n",
       "      <td>9</td>\n",
       "      <td>W</td>\n",
       "    </tr>\n",
       "    <tr>\n",
       "      <th>9</th>\n",
       "      <td>1998</td>\n",
       "      <td>3203</td>\n",
       "      <td>10</td>\n",
       "      <td>W</td>\n",
       "    </tr>\n",
       "  </tbody>\n",
       "</table>\n",
       "</div>"
      ],
      "text/plain": [
       "   Season  TeamID  seed_int region\n",
       "0    1998    3330         1      W\n",
       "1    1998    3163         2      W\n",
       "2    1998    3112         3      W\n",
       "3    1998    3301         4      W\n",
       "4    1998    3272         5      W\n",
       "5    1998    3438         6      W\n",
       "6    1998    3208         7      W\n",
       "7    1998    3307         8      W\n",
       "8    1998    3304         9      W\n",
       "9    1998    3203        10      W"
      ]
     },
     "execution_count": 3,
     "metadata": {},
     "output_type": "execute_result"
    }
   ],
   "source": [
    "# for extraction of seed and region\n",
    "def extract_seedint(seed):\n",
    "    k=int(seed[1:])\n",
    "    return k;\n",
    "def region(seed):\n",
    "    return seed[0];\n",
    "tourney_seeds['seed_int']=tourney_seeds['Seed'].apply(extract_seedint)\n",
    "tourney_seeds['region']=tourney_seeds['Seed'].apply(region)\n",
    "tourney_seeds.drop(columns=['Seed'],inplace=True)\n",
    "tourney_seeds.head(10)"
   ]
  },
  {
   "cell_type": "code",
   "execution_count": 4,
   "metadata": {},
   "outputs": [
    {
     "data": {
      "text/html": [
       "<div>\n",
       "<style scoped>\n",
       "    .dataframe tbody tr th:only-of-type {\n",
       "        vertical-align: middle;\n",
       "    }\n",
       "\n",
       "    .dataframe tbody tr th {\n",
       "        vertical-align: top;\n",
       "    }\n",
       "\n",
       "    .dataframe thead th {\n",
       "        text-align: right;\n",
       "    }\n",
       "</style>\n",
       "<table border=\"1\" class=\"dataframe\">\n",
       "  <thead>\n",
       "    <tr style=\"text-align: right;\">\n",
       "      <th></th>\n",
       "      <th>Season</th>\n",
       "      <th>DayNum</th>\n",
       "      <th>WTeamID</th>\n",
       "      <th>WScore</th>\n",
       "      <th>LTeamID</th>\n",
       "      <th>LScore</th>\n",
       "      <th>WLoc</th>\n",
       "      <th>NumOT</th>\n",
       "      <th>WSeed</th>\n",
       "      <th>WRegion</th>\n",
       "      <th>LSeed</th>\n",
       "      <th>LRegion</th>\n",
       "    </tr>\n",
       "  </thead>\n",
       "  <tbody>\n",
       "    <tr>\n",
       "      <th>0</th>\n",
       "      <td>1998</td>\n",
       "      <td>137</td>\n",
       "      <td>3104</td>\n",
       "      <td>94</td>\n",
       "      <td>3422</td>\n",
       "      <td>46</td>\n",
       "      <td>H</td>\n",
       "      <td>0</td>\n",
       "      <td>2</td>\n",
       "      <td>X</td>\n",
       "      <td>15</td>\n",
       "      <td>X</td>\n",
       "    </tr>\n",
       "    <tr>\n",
       "      <th>1</th>\n",
       "      <td>1998</td>\n",
       "      <td>137</td>\n",
       "      <td>3112</td>\n",
       "      <td>75</td>\n",
       "      <td>3365</td>\n",
       "      <td>63</td>\n",
       "      <td>H</td>\n",
       "      <td>0</td>\n",
       "      <td>3</td>\n",
       "      <td>W</td>\n",
       "      <td>14</td>\n",
       "      <td>W</td>\n",
       "    </tr>\n",
       "    <tr>\n",
       "      <th>2</th>\n",
       "      <td>1998</td>\n",
       "      <td>137</td>\n",
       "      <td>3163</td>\n",
       "      <td>93</td>\n",
       "      <td>3193</td>\n",
       "      <td>52</td>\n",
       "      <td>H</td>\n",
       "      <td>0</td>\n",
       "      <td>2</td>\n",
       "      <td>W</td>\n",
       "      <td>15</td>\n",
       "      <td>W</td>\n",
       "    </tr>\n",
       "    <tr>\n",
       "      <th>3</th>\n",
       "      <td>1998</td>\n",
       "      <td>137</td>\n",
       "      <td>3198</td>\n",
       "      <td>59</td>\n",
       "      <td>3266</td>\n",
       "      <td>45</td>\n",
       "      <td>H</td>\n",
       "      <td>0</td>\n",
       "      <td>7</td>\n",
       "      <td>Y</td>\n",
       "      <td>10</td>\n",
       "      <td>Y</td>\n",
       "    </tr>\n",
       "    <tr>\n",
       "      <th>4</th>\n",
       "      <td>1998</td>\n",
       "      <td>137</td>\n",
       "      <td>3203</td>\n",
       "      <td>74</td>\n",
       "      <td>3208</td>\n",
       "      <td>72</td>\n",
       "      <td>A</td>\n",
       "      <td>0</td>\n",
       "      <td>10</td>\n",
       "      <td>W</td>\n",
       "      <td>7</td>\n",
       "      <td>W</td>\n",
       "    </tr>\n",
       "  </tbody>\n",
       "</table>\n",
       "</div>"
      ],
      "text/plain": [
       "   Season  DayNum  WTeamID  WScore  LTeamID  LScore WLoc  NumOT  WSeed  \\\n",
       "0    1998     137     3104      94     3422      46    H      0      2   \n",
       "1    1998     137     3112      75     3365      63    H      0      3   \n",
       "2    1998     137     3163      93     3193      52    H      0      2   \n",
       "3    1998     137     3198      59     3266      45    H      0      7   \n",
       "4    1998     137     3203      74     3208      72    A      0     10   \n",
       "\n",
       "  WRegion  LSeed LRegion  \n",
       "0       X     15       X  \n",
       "1       W     14       W  \n",
       "2       W     15       W  \n",
       "3       Y     10       Y  \n",
       "4       W      7       W  "
      ]
     },
     "execution_count": 4,
     "metadata": {},
     "output_type": "execute_result"
    }
   ],
   "source": [
    "# merging the tournament results\n",
    "winseeds = tourney_seeds.rename(columns={'TeamID':'WTeamID', 'seed_int':'WSeed','region':'WRegion'})\n",
    "lossseeds = tourney_seeds.rename(columns={'TeamID':'LTeamID', 'seed_int':'LSeed','region':'LRegion'})\n",
    "df_dummy = pd.merge(left=tourney_results, right=winseeds, how='left', on=['Season', 'WTeamID'])\n",
    "tourney_results= pd.merge(left=df_dummy, right=lossseeds,how='left',on=['Season', 'LTeamID'])\n",
    "tourney_results.head()"
   ]
  },
  {
   "cell_type": "code",
   "execution_count": 5,
   "metadata": {},
   "outputs": [
    {
     "data": {
      "text/html": [
       "<div>\n",
       "<style scoped>\n",
       "    .dataframe tbody tr th:only-of-type {\n",
       "        vertical-align: middle;\n",
       "    }\n",
       "\n",
       "    .dataframe tbody tr th {\n",
       "        vertical-align: top;\n",
       "    }\n",
       "\n",
       "    .dataframe thead th {\n",
       "        text-align: right;\n",
       "    }\n",
       "</style>\n",
       "<table border=\"1\" class=\"dataframe\">\n",
       "  <thead>\n",
       "    <tr style=\"text-align: right;\">\n",
       "      <th></th>\n",
       "      <th>Season</th>\n",
       "      <th>DayNum</th>\n",
       "      <th>WTeamID</th>\n",
       "      <th>WScore</th>\n",
       "      <th>LTeamID</th>\n",
       "      <th>LScore</th>\n",
       "      <th>WLoc</th>\n",
       "      <th>NumOT</th>\n",
       "      <th>WSeed</th>\n",
       "      <th>LSeed</th>\n",
       "    </tr>\n",
       "  </thead>\n",
       "  <tbody>\n",
       "    <tr>\n",
       "      <th>0</th>\n",
       "      <td>1998</td>\n",
       "      <td>18</td>\n",
       "      <td>3104</td>\n",
       "      <td>91</td>\n",
       "      <td>3202</td>\n",
       "      <td>41</td>\n",
       "      <td>H</td>\n",
       "      <td>0</td>\n",
       "      <td>2.0</td>\n",
       "      <td>0.0</td>\n",
       "    </tr>\n",
       "    <tr>\n",
       "      <th>1</th>\n",
       "      <td>1998</td>\n",
       "      <td>18</td>\n",
       "      <td>3163</td>\n",
       "      <td>87</td>\n",
       "      <td>3221</td>\n",
       "      <td>76</td>\n",
       "      <td>H</td>\n",
       "      <td>0</td>\n",
       "      <td>2.0</td>\n",
       "      <td>14.0</td>\n",
       "    </tr>\n",
       "    <tr>\n",
       "      <th>2</th>\n",
       "      <td>1998</td>\n",
       "      <td>18</td>\n",
       "      <td>3222</td>\n",
       "      <td>66</td>\n",
       "      <td>3261</td>\n",
       "      <td>59</td>\n",
       "      <td>H</td>\n",
       "      <td>0</td>\n",
       "      <td>0.0</td>\n",
       "      <td>0.0</td>\n",
       "    </tr>\n",
       "    <tr>\n",
       "      <th>3</th>\n",
       "      <td>1998</td>\n",
       "      <td>18</td>\n",
       "      <td>3307</td>\n",
       "      <td>69</td>\n",
       "      <td>3365</td>\n",
       "      <td>62</td>\n",
       "      <td>H</td>\n",
       "      <td>0</td>\n",
       "      <td>8.0</td>\n",
       "      <td>14.0</td>\n",
       "    </tr>\n",
       "    <tr>\n",
       "      <th>4</th>\n",
       "      <td>1998</td>\n",
       "      <td>18</td>\n",
       "      <td>3349</td>\n",
       "      <td>115</td>\n",
       "      <td>3411</td>\n",
       "      <td>35</td>\n",
       "      <td>H</td>\n",
       "      <td>0</td>\n",
       "      <td>0.0</td>\n",
       "      <td>0.0</td>\n",
       "    </tr>\n",
       "  </tbody>\n",
       "</table>\n",
       "</div>"
      ],
      "text/plain": [
       "   Season  DayNum  WTeamID  WScore  LTeamID  LScore WLoc  NumOT  WSeed  LSeed\n",
       "0    1998      18     3104      91     3202      41    H      0    2.0    0.0\n",
       "1    1998      18     3163      87     3221      76    H      0    2.0   14.0\n",
       "2    1998      18     3222      66     3261      59    H      0    0.0    0.0\n",
       "3    1998      18     3307      69     3365      62    H      0    8.0   14.0\n",
       "4    1998      18     3349     115     3411      35    H      0    0.0    0.0"
      ]
     },
     "execution_count": 5,
     "metadata": {},
     "output_type": "execute_result"
    }
   ],
   "source": [
    "df_dummy = pd.merge(left=regular_season_results, right=winseeds, how='left', on=['Season', 'WTeamID'])\n",
    "regular_season_results= pd.merge(left=df_dummy, right=lossseeds,how='left',on=['Season', 'LTeamID'])\n",
    "regular_season_results.drop(columns=['WRegion','LRegion'],inplace=True)\n",
    "regular_season_results['WSeed'].fillna(0,inplace=True)\n",
    "regular_season_results['LSeed'].fillna(0,inplace=True)\n",
    "regular_season_results.head()"
   ]
  },
  {
   "cell_type": "code",
   "execution_count": 6,
   "metadata": {},
   "outputs": [
    {
     "data": {
      "text/html": [
       "<div>\n",
       "<style scoped>\n",
       "    .dataframe tbody tr th:only-of-type {\n",
       "        vertical-align: middle;\n",
       "    }\n",
       "\n",
       "    .dataframe tbody tr th {\n",
       "        vertical-align: top;\n",
       "    }\n",
       "\n",
       "    .dataframe thead th {\n",
       "        text-align: right;\n",
       "    }\n",
       "</style>\n",
       "<table border=\"1\" class=\"dataframe\">\n",
       "  <thead>\n",
       "    <tr style=\"text-align: right;\">\n",
       "      <th></th>\n",
       "      <th>TeamID</th>\n",
       "      <th>av_pps</th>\n",
       "      <th>av_ppa</th>\n",
       "    </tr>\n",
       "  </thead>\n",
       "  <tbody>\n",
       "    <tr>\n",
       "      <th>0</th>\n",
       "      <td>3101</td>\n",
       "      <td>46.000000</td>\n",
       "      <td>45.942857</td>\n",
       "    </tr>\n",
       "    <tr>\n",
       "      <th>1</th>\n",
       "      <td>3102</td>\n",
       "      <td>53.552301</td>\n",
       "      <td>68.803347</td>\n",
       "    </tr>\n",
       "    <tr>\n",
       "      <th>2</th>\n",
       "      <td>3103</td>\n",
       "      <td>61.820663</td>\n",
       "      <td>67.838207</td>\n",
       "    </tr>\n",
       "    <tr>\n",
       "      <th>3</th>\n",
       "      <td>3104</td>\n",
       "      <td>64.586481</td>\n",
       "      <td>65.900596</td>\n",
       "    </tr>\n",
       "    <tr>\n",
       "      <th>4</th>\n",
       "      <td>3105</td>\n",
       "      <td>58.070175</td>\n",
       "      <td>62.850877</td>\n",
       "    </tr>\n",
       "  </tbody>\n",
       "</table>\n",
       "</div>"
      ],
      "text/plain": [
       "   TeamID     av_pps     av_ppa\n",
       "0    3101  46.000000  45.942857\n",
       "1    3102  53.552301  68.803347\n",
       "2    3103  61.820663  67.838207\n",
       "3    3104  64.586481  65.900596\n",
       "4    3105  58.070175  62.850877"
      ]
     },
     "execution_count": 6,
     "metadata": {},
     "output_type": "execute_result"
    }
   ],
   "source": [
    "temp1=pd.DataFrame()\n",
    "temp1['TeamID']=regular_season_results.loc[regular_season_results['Season']<=yr].groupby('WTeamID').WScore.sum().index\n",
    "temp1['WScore']=regular_season_results.loc[regular_season_results['Season']<=yr].groupby('WTeamID').WScore.sum().values\n",
    "\n",
    "temp2=pd.DataFrame()\n",
    "temp2['TeamID']=regular_season_results.loc[regular_season_results['Season']<=yr].groupby('LTeamID').LScore.sum().index\n",
    "temp2['LScore']=regular_season_results.loc[regular_season_results['Season']<=yr].groupby('LTeamID').LScore.sum().values\n",
    "\n",
    "temp=pd.merge(left=temp1,right=temp2,how='outer',on=['TeamID'])\n",
    "temp['av_pps']=temp['WScore']+temp['LScore']\n",
    "temp.drop(columns=['WScore','LScore'],inplace=True)\n",
    "\n",
    "temp1=pd.DataFrame()\n",
    "temp1['TeamID']=regular_season_results.loc[regular_season_results['Season']<=yr].groupby('WTeamID').LScore.sum().index\n",
    "temp1['LScore']=regular_season_results.loc[regular_season_results['Season']<=yr].groupby('WTeamID').LScore.sum().values\n",
    "\n",
    "temp2=pd.DataFrame()\n",
    "temp2['TeamID']=regular_season_results.loc[regular_season_results['Season']<=yr].groupby('LTeamID').WScore.sum().index\n",
    "temp2['WScore']=regular_season_results.loc[regular_season_results['Season']<=yr].groupby('LTeamID').WScore.sum().values\n",
    "\n",
    "temp_pag=pd.merge(left=temp1,right=temp2,how='outer',on=['TeamID'])\n",
    "temp_pag['av_ppa']=temp_pag['WScore']+temp_pag['LScore']\n",
    "temp_pag.drop(columns=['WScore','LScore'],inplace=True)\n",
    "\n",
    "temp=pd.merge(left=temp,right=temp_pag,how='outer',on=['TeamID'])\n",
    "\n",
    "temp1=pd.DataFrame()\n",
    "temp1['TeamID']=regular_season_results.loc[regular_season_results['Season']<=yr,'WTeamID'].value_counts().index\n",
    "temp1['wmatches']=regular_season_results.loc[regular_season_results['Season']<=yr,'LTeamID'].value_counts().values\n",
    "\n",
    "temp2=pd.DataFrame()\n",
    "temp2['TeamID']=regular_season_results.loc[regular_season_results['Season']<=yr,'LTeamID'].value_counts().index\n",
    "temp2['lmatches']=regular_season_results.loc[regular_season_results['Season']<=yr,'LTeamID'].value_counts().values\n",
    "\n",
    "temp_mat=pd.merge(left=temp1,right=temp2,how='outer',on=['TeamID'])\n",
    "temp_mat['number']=temp_mat['wmatches']+temp_mat['lmatches']\n",
    "temp_mat.drop(columns=['wmatches','lmatches'],inplace=True)\n",
    "temp_mat.sort_values(by=['TeamID'],axis=0,inplace=True)\n",
    "temp=pd.merge(left=temp,right=temp_mat,how='outer',on=['TeamID'])\n",
    "\n",
    "# calculationg the average\n",
    "temp['av_pps']=temp['av_pps']/temp['number']\n",
    "temp['av_ppa']=temp['av_ppa']/temp['number']\n",
    "temp.drop(columns='number',inplace=True)\n",
    "temp.head()"
   ]
  },
  {
   "cell_type": "code",
   "execution_count": 7,
   "metadata": {},
   "outputs": [],
   "source": [
    "ppa1=temp.rename(columns={'TeamID':'WTeamID','av_pps':'Wav_pps','av_ppa':'Wav_ppa'})\n",
    "ppa2=temp.rename(columns={'TeamID':'LTeamID','av_pps':'Lav_pps','av_ppa':'Lav_ppa'})\n",
    "\n",
    "df_dummy=pd.merge(left=tourney_results,right=ppa1,how='left',on=['WTeamID'])\n",
    "tourney_results=pd.merge(left=df_dummy,right=ppa2,how='left',on=['LTeamID'])\n",
    "\n",
    "df_dummy=pd.merge(left=regular_season_results,right=ppa1,how='left',on=['WTeamID'])\n",
    "regular_season_results=pd.merge(left=df_dummy,right=ppa2,how='left',on=['LTeamID'])"
   ]
  },
  {
   "cell_type": "code",
   "execution_count": 8,
   "metadata": {},
   "outputs": [
    {
     "data": {
      "text/html": [
       "<div>\n",
       "<style scoped>\n",
       "    .dataframe tbody tr th:only-of-type {\n",
       "        vertical-align: middle;\n",
       "    }\n",
       "\n",
       "    .dataframe tbody tr th {\n",
       "        vertical-align: top;\n",
       "    }\n",
       "\n",
       "    .dataframe thead th {\n",
       "        text-align: right;\n",
       "    }\n",
       "</style>\n",
       "<table border=\"1\" class=\"dataframe\">\n",
       "  <thead>\n",
       "    <tr style=\"text-align: right;\">\n",
       "      <th></th>\n",
       "      <th>SeedDiff</th>\n",
       "      <th>ScoreDiff</th>\n",
       "      <th>ppsDiff</th>\n",
       "      <th>ppaDiff</th>\n",
       "      <th>Result</th>\n",
       "      <th>Type</th>\n",
       "    </tr>\n",
       "  </thead>\n",
       "  <tbody>\n",
       "    <tr>\n",
       "      <th>0</th>\n",
       "      <td>-13.0</td>\n",
       "      <td>48.0</td>\n",
       "      <td>2.321135</td>\n",
       "      <td>2.197626</td>\n",
       "      <td>1</td>\n",
       "      <td>1</td>\n",
       "    </tr>\n",
       "    <tr>\n",
       "      <th>1</th>\n",
       "      <td>-11.0</td>\n",
       "      <td>12.0</td>\n",
       "      <td>2.082998</td>\n",
       "      <td>1.191592</td>\n",
       "      <td>1</td>\n",
       "      <td>1</td>\n",
       "    </tr>\n",
       "    <tr>\n",
       "      <th>2</th>\n",
       "      <td>-13.0</td>\n",
       "      <td>41.0</td>\n",
       "      <td>38.735239</td>\n",
       "      <td>3.133738</td>\n",
       "      <td>1</td>\n",
       "      <td>1</td>\n",
       "    </tr>\n",
       "    <tr>\n",
       "      <th>3</th>\n",
       "      <td>-3.0</td>\n",
       "      <td>14.0</td>\n",
       "      <td>-1.175608</td>\n",
       "      <td>-1.532343</td>\n",
       "      <td>1</td>\n",
       "      <td>1</td>\n",
       "    </tr>\n",
       "    <tr>\n",
       "      <th>4</th>\n",
       "      <td>3.0</td>\n",
       "      <td>2.0</td>\n",
       "      <td>-8.318352</td>\n",
       "      <td>-2.344714</td>\n",
       "      <td>1</td>\n",
       "      <td>1</td>\n",
       "    </tr>\n",
       "  </tbody>\n",
       "</table>\n",
       "</div>"
      ],
      "text/plain": [
       "   SeedDiff  ScoreDiff    ppsDiff   ppaDiff  Result  Type\n",
       "0     -13.0       48.0   2.321135  2.197626       1     1\n",
       "1     -11.0       12.0   2.082998  1.191592       1     1\n",
       "2     -13.0       41.0  38.735239  3.133738       1     1\n",
       "3      -3.0       14.0  -1.175608 -1.532343       1     1\n",
       "4       3.0        2.0  -8.318352 -2.344714       1     1"
      ]
     },
     "execution_count": 8,
     "metadata": {},
     "output_type": "execute_result"
    }
   ],
   "source": [
    "wins=tourney_results.loc[tourney_results['Season']<yr,['Season','WSeed','LSeed','WScore','LScore','Wav_pps','Wav_ppa','Lav_pps','Lav_ppa']]\n",
    "wins['SeedDiff']=wins['WSeed']-wins['LSeed']\n",
    "wins['ScoreDiff']=wins['WScore']-wins['LScore']\n",
    "\n",
    "wins['ppsDiff']=wins['Wav_pps']-wins['Lav_pps']\n",
    "wins['ppaDiff']=wins['Wav_ppa']-wins['Lav_ppa']\n",
    "\n",
    "wins.drop(columns=['WSeed','LSeed','WScore','LScore','Season','Wav_pps','Wav_ppa','Lav_pps','Lav_ppa'],inplace=True)\n",
    "\n",
    "wins['Result']=1\n",
    "wins['Result']=wins['Result'].astype(int)\n",
    "\n",
    "losses=-wins\n",
    "losses['Result']=0\n",
    "\n",
    "data=pd.concat([wins,losses],axis=0)\n",
    "data['Type']=1             # tournnament games\n",
    "data.head()"
   ]
  },
  {
   "cell_type": "code",
   "execution_count": 9,
   "metadata": {},
   "outputs": [],
   "source": [
    "# wins=regular_season_results.loc[regular_season_results['Season']<yr,['Season','WSeed','LSeed','WScore','LScore','Wav_pps','Wav_ppa','Lav_pps','Lav_ppa']]\n",
    "# wins['SeedDiff']=wins['WSeed']-wins['LSeed']\n",
    "# wins['ScoreDiff']=wins['WScore']-wins['LScore']\n",
    "# wins.drop(columns=['WSeed','LSeed','WScore','LScore','Season'],inplace=True)\n",
    "\n",
    "# wins['Result']=1\n",
    "# wins['Result']=wins['Result'].astype(int)\n",
    "\n",
    "# losses=-wins\n",
    "# losses['Result']=0\n",
    "\n",
    "# print(wins.shape)\n",
    "# com=pd.concat([wins,losses],axis=0,ignore_index=True)\n",
    "# com['Type']=0  # regular season\n",
    "# com.head()\n",
    "# com=pd.concat([data,com],axis=0,ignore_index=True)\n",
    "# print(com.shape)\n",
    "# com.head()"
   ]
  },
  {
   "cell_type": "code",
   "execution_count": 10,
   "metadata": {},
   "outputs": [
    {
     "data": {
      "text/html": [
       "<div>\n",
       "<style scoped>\n",
       "    .dataframe tbody tr th:only-of-type {\n",
       "        vertical-align: middle;\n",
       "    }\n",
       "\n",
       "    .dataframe tbody tr th {\n",
       "        vertical-align: top;\n",
       "    }\n",
       "\n",
       "    .dataframe thead th {\n",
       "        text-align: right;\n",
       "    }\n",
       "</style>\n",
       "<table border=\"1\" class=\"dataframe\">\n",
       "  <thead>\n",
       "    <tr style=\"text-align: right;\">\n",
       "      <th></th>\n",
       "      <th>SeedDiff</th>\n",
       "      <th>ScoreDiff</th>\n",
       "      <th>ppsDiff</th>\n",
       "      <th>ppaDiff</th>\n",
       "      <th>Result</th>\n",
       "      <th>Type</th>\n",
       "    </tr>\n",
       "  </thead>\n",
       "  <tbody>\n",
       "    <tr>\n",
       "      <th>SeedDiff</th>\n",
       "      <td>1.000000</td>\n",
       "      <td>-0.751288</td>\n",
       "      <td>-0.605192</td>\n",
       "      <td>-0.383949</td>\n",
       "      <td>-0.622004</td>\n",
       "      <td>NaN</td>\n",
       "    </tr>\n",
       "    <tr>\n",
       "      <th>ScoreDiff</th>\n",
       "      <td>-0.751288</td>\n",
       "      <td>1.000000</td>\n",
       "      <td>0.600814</td>\n",
       "      <td>0.320239</td>\n",
       "      <td>0.807647</td>\n",
       "      <td>NaN</td>\n",
       "    </tr>\n",
       "    <tr>\n",
       "      <th>ppsDiff</th>\n",
       "      <td>-0.605192</td>\n",
       "      <td>0.600814</td>\n",
       "      <td>1.000000</td>\n",
       "      <td>0.705328</td>\n",
       "      <td>0.450661</td>\n",
       "      <td>NaN</td>\n",
       "    </tr>\n",
       "    <tr>\n",
       "      <th>ppaDiff</th>\n",
       "      <td>-0.383949</td>\n",
       "      <td>0.320239</td>\n",
       "      <td>0.705328</td>\n",
       "      <td>1.000000</td>\n",
       "      <td>0.250401</td>\n",
       "      <td>NaN</td>\n",
       "    </tr>\n",
       "    <tr>\n",
       "      <th>Result</th>\n",
       "      <td>-0.622004</td>\n",
       "      <td>0.807647</td>\n",
       "      <td>0.450661</td>\n",
       "      <td>0.250401</td>\n",
       "      <td>1.000000</td>\n",
       "      <td>NaN</td>\n",
       "    </tr>\n",
       "    <tr>\n",
       "      <th>Type</th>\n",
       "      <td>NaN</td>\n",
       "      <td>NaN</td>\n",
       "      <td>NaN</td>\n",
       "      <td>NaN</td>\n",
       "      <td>NaN</td>\n",
       "      <td>NaN</td>\n",
       "    </tr>\n",
       "  </tbody>\n",
       "</table>\n",
       "</div>"
      ],
      "text/plain": [
       "           SeedDiff  ScoreDiff   ppsDiff   ppaDiff    Result  Type\n",
       "SeedDiff   1.000000  -0.751288 -0.605192 -0.383949 -0.622004   NaN\n",
       "ScoreDiff -0.751288   1.000000  0.600814  0.320239  0.807647   NaN\n",
       "ppsDiff   -0.605192   0.600814  1.000000  0.705328  0.450661   NaN\n",
       "ppaDiff   -0.383949   0.320239  0.705328  1.000000  0.250401   NaN\n",
       "Result    -0.622004   0.807647  0.450661  0.250401  1.000000   NaN\n",
       "Type            NaN        NaN       NaN       NaN       NaN   NaN"
      ]
     },
     "execution_count": 10,
     "metadata": {},
     "output_type": "execute_result"
    }
   ],
   "source": [
    "data.corr()"
   ]
  },
  {
   "cell_type": "code",
   "execution_count": 11,
   "metadata": {},
   "outputs": [
    {
     "name": "stdout",
     "output_type": "stream",
     "text": [
      "(2016, 3) (2016,)\n"
     ]
    }
   ],
   "source": [
    "X_train=data.iloc[:,[0,2,3]].values\n",
    "y_train=data.iloc[:,1].values\n",
    "print(X_train.shape,y_train.shape)"
   ]
  },
  {
   "cell_type": "code",
   "execution_count": 12,
   "metadata": {
    "scrolled": true
   },
   "outputs": [
    {
     "name": "stdout",
     "output_type": "stream",
     "text": [
      "For regression \n",
      "The training shape is (1814, 3)  and the label shape is (1814,)\n",
      "The validation shape is (202, 3)  and the label shape is (202,)\n"
     ]
    }
   ],
   "source": [
    "X_train,X_val,y_train,y_val=train_test_split(X_train,y_train,test_size=0.1,random_state=42)\n",
    "print(\"For regression \")\n",
    "print(\"The training shape is\",X_train.shape,\" and the label shape is\",y_train.shape)\n",
    "print(\"The validation shape is\",X_val.shape,\" and the label shape is\",y_val.shape)"
   ]
  },
  {
   "cell_type": "markdown",
   "metadata": {},
   "source": [
    "My plan is to predict the score differences and this can be used to predict the score differences in the test data "
   ]
  },
  {
   "cell_type": "code",
   "execution_count": 13,
   "metadata": {},
   "outputs": [
    {
     "name": "stdout",
     "output_type": "stream",
     "text": [
      "The training Score is 0.608243696714\n",
      "The validation Score is 0.624507648684\n"
     ]
    }
   ],
   "source": [
    "lr=LinearRegression()\n",
    "lr.fit(X_train,y_train)\n",
    "print(\"The training Score is\",lr.score(X_train,y_train))\n",
    "print(\"The validation Score is\",lr.score(X_val,y_val))"
   ]
  },
  {
   "cell_type": "code",
   "execution_count": 14,
   "metadata": {},
   "outputs": [
    {
     "name": "stdout",
     "output_type": "stream",
     "text": [
      "The training Score is 0.914207922652\n",
      "The validation Score is 0.504781952517\n"
     ]
    }
   ],
   "source": [
    "rf=RandomForestRegressor(random_state=42)\n",
    "rf.fit(X_train,y_train)\n",
    "print(\"The training Score is\",rf.score(X_train,y_train))\n",
    "print(\"The validation Score is\",rf.score(X_val,y_val))"
   ]
  },
  {
   "cell_type": "code",
   "execution_count": 15,
   "metadata": {},
   "outputs": [
    {
     "name": "stdout",
     "output_type": "stream",
     "text": [
      "The training Score is 0.678685562534\n",
      "The validation Score is 0.624177669458\n"
     ]
    }
   ],
   "source": [
    "xgr=XGBRegressor(random_state=42)\n",
    "xgr.fit(X_train,y_train)\n",
    "print(\"The training Score is\",xgr.score(X_train,y_train))\n",
    "print(\"The validation Score is\",xgr.score(X_val,y_val))"
   ]
  },
  {
   "cell_type": "code",
   "execution_count": 16,
   "metadata": {},
   "outputs": [
    {
     "data": {
      "text/html": [
       "<div>\n",
       "<style scoped>\n",
       "    .dataframe tbody tr th:only-of-type {\n",
       "        vertical-align: middle;\n",
       "    }\n",
       "\n",
       "    .dataframe tbody tr th {\n",
       "        vertical-align: top;\n",
       "    }\n",
       "\n",
       "    .dataframe thead th {\n",
       "        text-align: right;\n",
       "    }\n",
       "</style>\n",
       "<table border=\"1\" class=\"dataframe\">\n",
       "  <thead>\n",
       "    <tr style=\"text-align: right;\">\n",
       "      <th></th>\n",
       "      <th>SeedDiff</th>\n",
       "      <th>ScoreDiff</th>\n",
       "      <th>ppsDiff</th>\n",
       "      <th>ppaDiff</th>\n",
       "      <th>Result</th>\n",
       "      <th>Type</th>\n",
       "      <th>DiffbyRegressor</th>\n",
       "    </tr>\n",
       "  </thead>\n",
       "  <tbody>\n",
       "    <tr>\n",
       "      <th>0</th>\n",
       "      <td>-13.0</td>\n",
       "      <td>48.0</td>\n",
       "      <td>2.321135</td>\n",
       "      <td>2.197626</td>\n",
       "      <td>1</td>\n",
       "      <td>1</td>\n",
       "      <td>20.863790</td>\n",
       "    </tr>\n",
       "    <tr>\n",
       "      <th>1</th>\n",
       "      <td>-11.0</td>\n",
       "      <td>12.0</td>\n",
       "      <td>2.082998</td>\n",
       "      <td>1.191592</td>\n",
       "      <td>1</td>\n",
       "      <td>1</td>\n",
       "      <td>18.091808</td>\n",
       "    </tr>\n",
       "    <tr>\n",
       "      <th>2</th>\n",
       "      <td>-13.0</td>\n",
       "      <td>41.0</td>\n",
       "      <td>38.735239</td>\n",
       "      <td>3.133738</td>\n",
       "      <td>1</td>\n",
       "      <td>1</td>\n",
       "      <td>36.181206</td>\n",
       "    </tr>\n",
       "    <tr>\n",
       "      <th>3</th>\n",
       "      <td>-3.0</td>\n",
       "      <td>14.0</td>\n",
       "      <td>-1.175608</td>\n",
       "      <td>-1.532343</td>\n",
       "      <td>1</td>\n",
       "      <td>1</td>\n",
       "      <td>5.235997</td>\n",
       "    </tr>\n",
       "    <tr>\n",
       "      <th>4</th>\n",
       "      <td>3.0</td>\n",
       "      <td>2.0</td>\n",
       "      <td>-8.318352</td>\n",
       "      <td>-2.344714</td>\n",
       "      <td>1</td>\n",
       "      <td>1</td>\n",
       "      <td>-7.175473</td>\n",
       "    </tr>\n",
       "  </tbody>\n",
       "</table>\n",
       "</div>"
      ],
      "text/plain": [
       "   SeedDiff  ScoreDiff    ppsDiff   ppaDiff  Result  Type  DiffbyRegressor\n",
       "0     -13.0       48.0   2.321135  2.197626       1     1        20.863790\n",
       "1     -11.0       12.0   2.082998  1.191592       1     1        18.091808\n",
       "2     -13.0       41.0  38.735239  3.133738       1     1        36.181206\n",
       "3      -3.0       14.0  -1.175608 -1.532343       1     1         5.235997\n",
       "4       3.0        2.0  -8.318352 -2.344714       1     1        -7.175473"
      ]
     },
     "execution_count": 16,
     "metadata": {},
     "output_type": "execute_result"
    }
   ],
   "source": [
    "pred_data=data.iloc[:,[0,2,3]].values\n",
    "data['DiffbyRegressor']=lr.predict(pred_data)  # if i make xgr the log loss of the classfier becomes 0.39 and for lr log loss is 0.4419\n",
    "data.head()                               "
   ]
  },
  {
   "cell_type": "code",
   "execution_count": 17,
   "metadata": {},
   "outputs": [
    {
     "data": {
      "image/png": "[encoded data removed]",
      "text/plain": [
       "<matplotlib.figure.Figure at 0x7fa7241e6978>"
      ]
     },
     "metadata": {},
     "output_type": "display_data"
    }
   ],
   "source": [
    "plt.scatter(data['ScoreDiff'],data['DiffbyRegressor'])\n",
    "plt.xlabel(\"real score diff\")\n",
    "plt.ylabel(\"predicted score diff\")\n",
    "plt.show()"
   ]
  },
  {
   "cell_type": "markdown",
   "metadata": {},
   "source": [
    "I will build a classifier on the data using Season,SeedDiff,ScoreDiff by regressor. "
   ]
  },
  {
   "cell_type": "code",
   "execution_count": 18,
   "metadata": {},
   "outputs": [
    {
     "data": {
      "image/png": "[encoded data removed]",
      "text/plain": [
       "<matplotlib.figure.Figure at 0x7fa6eba8cdd8>"
      ]
     },
     "metadata": {},
     "output_type": "display_data"
    }
   ],
   "source": [
    "plt.scatter(data.loc[data['Result']==1,'SeedDiff'],data.loc[data['Result']==1,'DiffbyRegressor'],label='won')\n",
    "plt.scatter(data.loc[data['Result']==0,'SeedDiff'],data.loc[data['Result']==0,'DiffbyRegressor'],label='loss')\n",
    "plt.legend()\n",
    "plt.show()"
   ]
  },
  {
   "cell_type": "code",
   "execution_count": 19,
   "metadata": {},
   "outputs": [
    {
     "name": "stdout",
     "output_type": "stream",
     "text": [
      "(2016, 2) (2016,)\n"
     ]
    }
   ],
   "source": [
    "X_train=data.iloc[:,[0,6]].values\n",
    "y_train=data.iloc[:,4].values\n",
    "print(X_train.shape,y_train.shape)"
   ]
  },
  {
   "cell_type": "code",
   "execution_count": 20,
   "metadata": {},
   "outputs": [
    {
     "name": "stdout",
     "output_type": "stream",
     "text": [
      "The training shape is (1814, 2)  and the label shape is (1814,)\n",
      "The validation shape is (202, 2)  and the label shape is (202,)\n"
     ]
    }
   ],
   "source": [
    "X_train,X_val,y_train,y_val=train_test_split(X_train,y_train,test_size=0.1,random_state=42,shuffle=True)\n",
    "\n",
    "print(\"The training shape is\",X_train.shape,\" and the label shape is\",y_train.shape)\n",
    "print(\"The validation shape is\",X_val.shape,\" and the label shape is\",y_val.shape)"
   ]
  },
  {
   "cell_type": "markdown",
   "metadata": {},
   "source": [
    "# Classifiers"
   ]
  },
  {
   "cell_type": "markdown",
   "metadata": {},
   "source": [
    "## LOSGISTIC REGRESSION"
   ]
  },
  {
   "cell_type": "code",
   "execution_count": 21,
   "metadata": {},
   "outputs": [
    {
     "name": "stdout",
     "output_type": "stream",
     "text": [
      "The best value of C is {'C': 0.01}\n"
     ]
    }
   ],
   "source": [
    "param={'C':[0.01,0.03,0.06,0.1,0.3,0.6,1]}\n",
    "lr=LogisticRegression()\n",
    "gridsearch=GridSearchCV(lr,param_grid=param,scoring='neg_log_loss',cv=5)\n",
    "gridsearch.fit(X_train,y_train)\n",
    "print(\"The best value of C is\",gridsearch.best_params_)"
   ]
  },
  {
   "cell_type": "code",
   "execution_count": 22,
   "metadata": {},
   "outputs": [
    {
     "name": "stdout",
     "output_type": "stream",
     "text": [
      "The training log loss is 0.442604897526\n",
      "The validation log los is 0.449195564035\n"
     ]
    }
   ],
   "source": [
    "lr=LogisticRegression(C=gridsearch.best_params_['C'])\n",
    "lr.fit(X_train,y_train)\n",
    "print(\"The training log loss is\",log_loss(y_train,lr.predict_proba(X_train)[:,1]))\n",
    "print(\"The validation log los is\",log_loss(y_val,lr.predict_proba(X_val)[:,1]))"
   ]
  },
  {
   "cell_type": "code",
   "execution_count": 23,
   "metadata": {},
   "outputs": [
    {
     "name": "stdout",
     "output_type": "stream",
     "text": [
      "The training log loss is 0.402015013978\n",
      "The validation log los is 0.452321237479\n"
     ]
    }
   ],
   "source": [
    "xgc=XGBClassifier(n_estimators=100,random_state=42)\n",
    "xgc.fit(X_train,y_train)\n",
    "print(\"The training log loss is\",log_loss(y_train,xgc.predict_proba(X_train)[:,1]))\n",
    "print(\"The validation log los is\",log_loss(y_val,xgc.predict_proba(X_val)[:,1]))"
   ]
  },
  {
   "cell_type": "code",
   "execution_count": 24,
   "metadata": {},
   "outputs": [
    {
     "name": "stdout",
     "output_type": "stream",
     "text": [
      "The training loss of the ensemble is 0.419098516114\n",
      "The validation loss of the ensemble is 0.449141991624\n"
     ]
    }
   ],
   "source": [
    "print(\"The training loss of the ensemble is\",log_loss(y_train,0.5*xgc.predict_proba(X_train)[:,1]+0.5*lr.predict_proba(X_train)[:,1]))\n",
    "print(\"The validation loss of the ensemble is\",log_loss(y_val,0.5*xgc.predict_proba(X_val)[:,1]+0.5*lr.predict_proba(X_val)[:,1]))"
   ]
  },
  {
   "cell_type": "markdown",
   "metadata": {},
   "source": [
    "## TEST PREPROCESSING"
   ]
  },
  {
   "cell_type": "code",
   "execution_count": 25,
   "metadata": {},
   "outputs": [
    {
     "data": {
      "text/html": [
       "<div>\n",
       "<style scoped>\n",
       "    .dataframe tbody tr th:only-of-type {\n",
       "        vertical-align: middle;\n",
       "    }\n",
       "\n",
       "    .dataframe tbody tr th {\n",
       "        vertical-align: top;\n",
       "    }\n",
       "\n",
       "    .dataframe thead th {\n",
       "        text-align: right;\n",
       "    }\n",
       "</style>\n",
       "<table border=\"1\" class=\"dataframe\">\n",
       "  <thead>\n",
       "    <tr style=\"text-align: right;\">\n",
       "      <th></th>\n",
       "      <th>Season</th>\n",
       "      <th>WTeamID</th>\n",
       "      <th>LTeamID</th>\n",
       "    </tr>\n",
       "  </thead>\n",
       "  <tbody>\n",
       "    <tr>\n",
       "      <th>0</th>\n",
       "      <td>2014</td>\n",
       "      <td>3103</td>\n",
       "      <td>3107</td>\n",
       "    </tr>\n",
       "    <tr>\n",
       "      <th>1</th>\n",
       "      <td>2014</td>\n",
       "      <td>3103</td>\n",
       "      <td>3113</td>\n",
       "    </tr>\n",
       "    <tr>\n",
       "      <th>2</th>\n",
       "      <td>2014</td>\n",
       "      <td>3103</td>\n",
       "      <td>3119</td>\n",
       "    </tr>\n",
       "    <tr>\n",
       "      <th>3</th>\n",
       "      <td>2014</td>\n",
       "      <td>3103</td>\n",
       "      <td>3124</td>\n",
       "    </tr>\n",
       "    <tr>\n",
       "      <th>4</th>\n",
       "      <td>2014</td>\n",
       "      <td>3103</td>\n",
       "      <td>3140</td>\n",
       "    </tr>\n",
       "  </tbody>\n",
       "</table>\n",
       "</div>"
      ],
      "text/plain": [
       "   Season  WTeamID  LTeamID\n",
       "0    2014     3103     3107\n",
       "1    2014     3103     3113\n",
       "2    2014     3103     3119\n",
       "3    2014     3103     3124\n",
       "4    2014     3103     3140"
      ]
     },
     "execution_count": 25,
     "metadata": {},
     "output_type": "execute_result"
    }
   ],
   "source": [
    "test=pd.DataFrame(columns=['Season','WTeamID','LTeamID'])\n",
    "for i in sample_submission.index:\n",
    "    season,wid,lid=map(int,sample_submission['ID'][i].split(\"_\"))\n",
    "    test.loc[i,'Season']=season\n",
    "    test.loc[i,'WTeamID']=wid\n",
    "    test.loc[i,'LTeamID']=lid\n",
    "\n",
    "test['Season']=test['Season'].astype(int)\n",
    "test['WTeamID']=test['WTeamID'].astype(int)\n",
    "test['LTeamID']=test['LTeamID'].astype(int)\n",
    "test.head()"
   ]
  },
  {
   "cell_type": "code",
   "execution_count": 26,
   "metadata": {},
   "outputs": [
    {
     "data": {
      "text/html": [
       "<div>\n",
       "<style scoped>\n",
       "    .dataframe tbody tr th:only-of-type {\n",
       "        vertical-align: middle;\n",
       "    }\n",
       "\n",
       "    .dataframe tbody tr th {\n",
       "        vertical-align: top;\n",
       "    }\n",
       "\n",
       "    .dataframe thead th {\n",
       "        text-align: right;\n",
       "    }\n",
       "</style>\n",
       "<table border=\"1\" class=\"dataframe\">\n",
       "  <thead>\n",
       "    <tr style=\"text-align: right;\">\n",
       "      <th></th>\n",
       "      <th>WTeamID</th>\n",
       "      <th>LTeamID</th>\n",
       "      <th>SeedDiff</th>\n",
       "      <th>ppsDiff</th>\n",
       "      <th>ppaDiff</th>\n",
       "      <th>Type</th>\n",
       "    </tr>\n",
       "  </thead>\n",
       "  <tbody>\n",
       "    <tr>\n",
       "      <th>0</th>\n",
       "      <td>3103</td>\n",
       "      <td>3107</td>\n",
       "      <td>-2</td>\n",
       "      <td>3.688078</td>\n",
       "      <td>8.402252</td>\n",
       "      <td>1</td>\n",
       "    </tr>\n",
       "    <tr>\n",
       "      <th>1</th>\n",
       "      <td>3103</td>\n",
       "      <td>3113</td>\n",
       "      <td>4</td>\n",
       "      <td>-6.413905</td>\n",
       "      <td>5.128330</td>\n",
       "      <td>1</td>\n",
       "    </tr>\n",
       "    <tr>\n",
       "      <th>2</th>\n",
       "      <td>3103</td>\n",
       "      <td>3119</td>\n",
       "      <td>0</td>\n",
       "      <td>1.708397</td>\n",
       "      <td>7.453591</td>\n",
       "      <td>1</td>\n",
       "    </tr>\n",
       "    <tr>\n",
       "      <th>3</th>\n",
       "      <td>3103</td>\n",
       "      <td>3124</td>\n",
       "      <td>11</td>\n",
       "      <td>-21.696359</td>\n",
       "      <td>0.833951</td>\n",
       "      <td>1</td>\n",
       "    </tr>\n",
       "    <tr>\n",
       "      <th>4</th>\n",
       "      <td>3103</td>\n",
       "      <td>3140</td>\n",
       "      <td>1</td>\n",
       "      <td>-8.544316</td>\n",
       "      <td>4.258038</td>\n",
       "      <td>1</td>\n",
       "    </tr>\n",
       "  </tbody>\n",
       "</table>\n",
       "</div>"
      ],
      "text/plain": [
       "   WTeamID  LTeamID  SeedDiff    ppsDiff   ppaDiff  Type\n",
       "0     3103     3107        -2   3.688078  8.402252     1\n",
       "1     3103     3113         4  -6.413905  5.128330     1\n",
       "2     3103     3119         0   1.708397  7.453591     1\n",
       "3     3103     3124        11 -21.696359  0.833951     1\n",
       "4     3103     3140         1  -8.544316  4.258038     1"
      ]
     },
     "execution_count": 26,
     "metadata": {},
     "output_type": "execute_result"
    }
   ],
   "source": [
    "df_dummy=pd.merge(left=test,right=winseeds,how='left',on=['Season','WTeamID'])\n",
    "test=pd.merge(left=df_dummy,right=lossseeds,how='left',on=['Season','LTeamID'])\n",
    "\n",
    "df_dummy=pd.merge(left=test,right=ppa1,how='left',on=['WTeamID'])\n",
    "test=pd.merge(left=df_dummy,right=ppa2,how='left',on=['LTeamID'])\n",
    "\n",
    "\n",
    "test['SeedDiff']=test['WSeed']-test['LSeed']\n",
    "test['ppsDiff']=test['Wav_pps']-test['Lav_pps']\n",
    "test['ppaDiff']=test['Wav_ppa']-test['Lav_ppa']\n",
    "test.drop(columns=['WRegion','LRegion','WSeed','LSeed','Season','Wav_pps','Wav_ppa','Lav_pps','Lav_ppa'],inplace=True)\n",
    "\n",
    "\n",
    "test['Type']=1\n",
    "test.head()"
   ]
  },
  {
   "cell_type": "markdown",
   "metadata": {},
   "source": [
    "# predictions of regressor"
   ]
  },
  {
   "cell_type": "code",
   "execution_count": 27,
   "metadata": {},
   "outputs": [
    {
     "data": {
      "text/html": [
       "<div>\n",
       "<style scoped>\n",
       "    .dataframe tbody tr th:only-of-type {\n",
       "        vertical-align: middle;\n",
       "    }\n",
       "\n",
       "    .dataframe tbody tr th {\n",
       "        vertical-align: top;\n",
       "    }\n",
       "\n",
       "    .dataframe thead th {\n",
       "        text-align: right;\n",
       "    }\n",
       "</style>\n",
       "<table border=\"1\" class=\"dataframe\">\n",
       "  <thead>\n",
       "    <tr style=\"text-align: right;\">\n",
       "      <th></th>\n",
       "      <th>WTeamID</th>\n",
       "      <th>LTeamID</th>\n",
       "      <th>SeedDiff</th>\n",
       "      <th>ppsDiff</th>\n",
       "      <th>ppaDiff</th>\n",
       "      <th>Type</th>\n",
       "      <th>DiffbyRegressor</th>\n",
       "    </tr>\n",
       "  </thead>\n",
       "  <tbody>\n",
       "    <tr>\n",
       "      <th>0</th>\n",
       "      <td>3103</td>\n",
       "      <td>3107</td>\n",
       "      <td>-2</td>\n",
       "      <td>3.688078</td>\n",
       "      <td>8.402252</td>\n",
       "      <td>1</td>\n",
       "      <td>0.539824</td>\n",
       "    </tr>\n",
       "    <tr>\n",
       "      <th>1</th>\n",
       "      <td>3103</td>\n",
       "      <td>3113</td>\n",
       "      <td>4</td>\n",
       "      <td>-6.413905</td>\n",
       "      <td>5.128330</td>\n",
       "      <td>1</td>\n",
       "      <td>-14.853702</td>\n",
       "    </tr>\n",
       "    <tr>\n",
       "      <th>2</th>\n",
       "      <td>3103</td>\n",
       "      <td>3119</td>\n",
       "      <td>0</td>\n",
       "      <td>1.708397</td>\n",
       "      <td>7.453591</td>\n",
       "      <td>1</td>\n",
       "      <td>-7.580558</td>\n",
       "    </tr>\n",
       "    <tr>\n",
       "      <th>3</th>\n",
       "      <td>3103</td>\n",
       "      <td>3124</td>\n",
       "      <td>11</td>\n",
       "      <td>-21.696359</td>\n",
       "      <td>0.833951</td>\n",
       "      <td>1</td>\n",
       "      <td>-29.653671</td>\n",
       "    </tr>\n",
       "    <tr>\n",
       "      <th>4</th>\n",
       "      <td>3103</td>\n",
       "      <td>3140</td>\n",
       "      <td>1</td>\n",
       "      <td>-8.544316</td>\n",
       "      <td>4.258038</td>\n",
       "      <td>1</td>\n",
       "      <td>-10.397937</td>\n",
       "    </tr>\n",
       "  </tbody>\n",
       "</table>\n",
       "</div>"
      ],
      "text/plain": [
       "   WTeamID  LTeamID  SeedDiff    ppsDiff   ppaDiff  Type  DiffbyRegressor\n",
       "0     3103     3107        -2   3.688078  8.402252     1         0.539824\n",
       "1     3103     3113         4  -6.413905  5.128330     1       -14.853702\n",
       "2     3103     3119         0   1.708397  7.453591     1        -7.580558\n",
       "3     3103     3124        11 -21.696359  0.833951     1       -29.653671\n",
       "4     3103     3140         1  -8.544316  4.258038     1       -10.397937"
      ]
     },
     "execution_count": 27,
     "metadata": {},
     "output_type": "execute_result"
    }
   ],
   "source": [
    "# usedd random forest regressor predictions\n",
    "X_test=test.iloc[:,[2,3,4]].values\n",
    "test['DiffbyRegressor']=xgr.predict(X_test)\n",
    "test.head()"
   ]
  },
  {
   "cell_type": "code",
   "execution_count": 28,
   "metadata": {},
   "outputs": [
    {
     "data": {
      "text/html": [
       "<div>\n",
       "<style scoped>\n",
       "    .dataframe tbody tr th:only-of-type {\n",
       "        vertical-align: middle;\n",
       "    }\n",
       "\n",
       "    .dataframe tbody tr th {\n",
       "        vertical-align: top;\n",
       "    }\n",
       "\n",
       "    .dataframe thead th {\n",
       "        text-align: right;\n",
       "    }\n",
       "</style>\n",
       "<table border=\"1\" class=\"dataframe\">\n",
       "  <thead>\n",
       "    <tr style=\"text-align: right;\">\n",
       "      <th></th>\n",
       "      <th>SeedDiff</th>\n",
       "      <th>ScoreDiff</th>\n",
       "      <th>ppsDiff</th>\n",
       "      <th>ppaDiff</th>\n",
       "      <th>Result</th>\n",
       "      <th>Type</th>\n",
       "      <th>DiffbyRegressor</th>\n",
       "    </tr>\n",
       "  </thead>\n",
       "  <tbody>\n",
       "    <tr>\n",
       "      <th>0</th>\n",
       "      <td>-13.0</td>\n",
       "      <td>48.0</td>\n",
       "      <td>2.321135</td>\n",
       "      <td>2.197626</td>\n",
       "      <td>1</td>\n",
       "      <td>1</td>\n",
       "      <td>20.863790</td>\n",
       "    </tr>\n",
       "    <tr>\n",
       "      <th>1</th>\n",
       "      <td>-11.0</td>\n",
       "      <td>12.0</td>\n",
       "      <td>2.082998</td>\n",
       "      <td>1.191592</td>\n",
       "      <td>1</td>\n",
       "      <td>1</td>\n",
       "      <td>18.091808</td>\n",
       "    </tr>\n",
       "    <tr>\n",
       "      <th>2</th>\n",
       "      <td>-13.0</td>\n",
       "      <td>41.0</td>\n",
       "      <td>38.735239</td>\n",
       "      <td>3.133738</td>\n",
       "      <td>1</td>\n",
       "      <td>1</td>\n",
       "      <td>36.181206</td>\n",
       "    </tr>\n",
       "    <tr>\n",
       "      <th>3</th>\n",
       "      <td>-3.0</td>\n",
       "      <td>14.0</td>\n",
       "      <td>-1.175608</td>\n",
       "      <td>-1.532343</td>\n",
       "      <td>1</td>\n",
       "      <td>1</td>\n",
       "      <td>5.235997</td>\n",
       "    </tr>\n",
       "    <tr>\n",
       "      <th>4</th>\n",
       "      <td>3.0</td>\n",
       "      <td>2.0</td>\n",
       "      <td>-8.318352</td>\n",
       "      <td>-2.344714</td>\n",
       "      <td>1</td>\n",
       "      <td>1</td>\n",
       "      <td>-7.175473</td>\n",
       "    </tr>\n",
       "  </tbody>\n",
       "</table>\n",
       "</div>"
      ],
      "text/plain": [
       "   SeedDiff  ScoreDiff    ppsDiff   ppaDiff  Result  Type  DiffbyRegressor\n",
       "0     -13.0       48.0   2.321135  2.197626       1     1        20.863790\n",
       "1     -11.0       12.0   2.082998  1.191592       1     1        18.091808\n",
       "2     -13.0       41.0  38.735239  3.133738       1     1        36.181206\n",
       "3      -3.0       14.0  -1.175608 -1.532343       1     1         5.235997\n",
       "4       3.0        2.0  -8.318352 -2.344714       1     1        -7.175473"
      ]
     },
     "execution_count": 28,
     "metadata": {},
     "output_type": "execute_result"
    }
   ],
   "source": [
    "data.head()"
   ]
  },
  {
   "cell_type": "markdown",
   "metadata": {},
   "source": [
    "## predictions of classifier"
   ]
  },
  {
   "cell_type": "code",
   "execution_count": 29,
   "metadata": {},
   "outputs": [
    {
     "data": {
      "text/html": [
       "<div>\n",
       "<style scoped>\n",
       "    .dataframe tbody tr th:only-of-type {\n",
       "        vertical-align: middle;\n",
       "    }\n",
       "\n",
       "    .dataframe tbody tr th {\n",
       "        vertical-align: top;\n",
       "    }\n",
       "\n",
       "    .dataframe thead th {\n",
       "        text-align: right;\n",
       "    }\n",
       "</style>\n",
       "<table border=\"1\" class=\"dataframe\">\n",
       "  <thead>\n",
       "    <tr style=\"text-align: right;\">\n",
       "      <th></th>\n",
       "      <th>ID</th>\n",
       "      <th>Pred</th>\n",
       "    </tr>\n",
       "  </thead>\n",
       "  <tbody>\n",
       "    <tr>\n",
       "      <th>0</th>\n",
       "      <td>2014_3103_3107</td>\n",
       "      <td>0.512433</td>\n",
       "    </tr>\n",
       "    <tr>\n",
       "      <th>1</th>\n",
       "      <td>2014_3103_3113</td>\n",
       "      <td>0.151751</td>\n",
       "    </tr>\n",
       "    <tr>\n",
       "      <th>2</th>\n",
       "      <td>2014_3103_3119</td>\n",
       "      <td>0.285175</td>\n",
       "    </tr>\n",
       "    <tr>\n",
       "      <th>3</th>\n",
       "      <td>2014_3103_3124</td>\n",
       "      <td>0.013325</td>\n",
       "    </tr>\n",
       "    <tr>\n",
       "      <th>4</th>\n",
       "      <td>2014_3103_3140</td>\n",
       "      <td>0.353971</td>\n",
       "    </tr>\n",
       "  </tbody>\n",
       "</table>\n",
       "</div>"
      ],
      "text/plain": [
       "               ID      Pred\n",
       "0  2014_3103_3107  0.512433\n",
       "1  2014_3103_3113  0.151751\n",
       "2  2014_3103_3119  0.285175\n",
       "3  2014_3103_3124  0.013325\n",
       "4  2014_3103_3140  0.353971"
      ]
     },
     "execution_count": 29,
     "metadata": {},
     "output_type": "execute_result"
    }
   ],
   "source": [
    "X_test=test.iloc[:,[5,6]].values\n",
    "sample_submission['Pred']=xgc.predict_proba(X_test)[:,1]\n",
    "sample_submission.head()"
   ]
  },
  {
   "cell_type": "code",
   "execution_count": 30,
   "metadata": {},
   "outputs": [
    {
     "name": "stdout",
     "output_type": "stream",
     "text": [
      "Done\n"
     ]
    }
   ],
   "source": [
    "sample_submission.to_csv(\"Trying_something_new.csv\",index=False)\n",
    "print(\"Done\")"
   ]
  }
 ],
 "metadata": {
  "kernelspec": {
   "display_name": "Python 3",
   "language": "python",
   "name": "python3"
  },
  "language_info": {
   "codemirror_mode": {
    "name": "ipython",
    "version": 3
   },
   "file_extension": ".py",
   "mimetype": "text/x-python",
   "name": "python",
   "nbconvert_exporter": "python",
   "pygments_lexer": "ipython3",
   "version": "3.6.2"
  }
 },
 "nbformat": 4,
 "nbformat_minor": 2
}
