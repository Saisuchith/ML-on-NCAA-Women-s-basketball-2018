{
 "cells": [
  {
   "cell_type": "markdown",
   "metadata": {},
   "source": [
    "## MERGING THE OUTPUT FILES\n",
    "This notebook will merge all the output files"
   ]
  },
  {
   "cell_type": "code",
   "execution_count": 1,
   "metadata": {},
   "outputs": [],
   "source": [
    "import pandas as pd\n",
    "import numpy as np"
   ]
  },
  {
   "cell_type": "code",
   "execution_count": 3,
   "metadata": {},
   "outputs": [
    {
     "name": "stdout",
     "output_type": "stream",
     "text": [
      "All files loaded\n"
     ]
    }
   ],
   "source": [
    "xgb_2014=pd.read_csv(\"xgb_2014.csv\")\n",
    "xgb_2015=pd.read_csv(\"xgb_2015.csv\")\n",
    "xgb_2016=pd.read_csv(\"xgb_2016.csv\")\n",
    "xgb_2017=pd.read_csv(\"xgb_2017.csv\")\n",
    "\n",
    "lr_2014=pd.read_csv(\"lr_2014.csv\")\n",
    "lr_2015=pd.read_csv(\"lr_2015.csv\")\n",
    "lr_2016=pd.read_csv(\"lr_2016.csv\")\n",
    "lr_2017=pd.read_csv(\"lr_2017.csv\")\n",
    "\n",
    "sample=pd.read_csv(\"WDataFiles/WSampleSubmissionStage1.csv\")\n",
    "print(\"All files loaded\")"
   ]
  },
  {
   "cell_type": "code",
   "execution_count": 10,
   "metadata": {},
   "outputs": [],
   "source": [
    "# merging \n",
    "xgb_merge=pd.concat([xgb_2014,xgb_2015,xgb_2016,xgb_2017],ignore_index=True)\n",
    "lr_merge=pd.concat([lr_2014,lr_2015,lr_2016,lr_2017],ignore_index=True)"
   ]
  },
  {
   "cell_type": "code",
   "execution_count": 11,
   "metadata": {},
   "outputs": [
    {
     "name": "stdout",
     "output_type": "stream",
     "text": [
      "Done\n"
     ]
    }
   ],
   "source": [
    "xgb_merge.to_csv(\"xgb_merge.csv\",index=False)\n",
    "lr_merge.to_csv(\"lr_merge.csv\",index=False)\n",
    "print(\"Done\")"
   ]
  }
 ],
 "metadata": {
  "kernelspec": {
   "display_name": "Python 3",
   "language": "python",
   "name": "python3"
  },
  "language_info": {
   "codemirror_mode": {
    "name": "ipython",
    "version": 3
   },
   "file_extension": ".py",
   "mimetype": "text/x-python",
   "name": "python",
   "nbconvert_exporter": "python",
   "pygments_lexer": "ipython3",
   "version": "3.6.2"
  }
 },
 "nbformat": 4,
 "nbformat_minor": 2
}
